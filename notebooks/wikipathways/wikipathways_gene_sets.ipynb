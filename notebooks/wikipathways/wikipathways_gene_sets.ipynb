{
 "cells": [
  {
   "cell_type": "markdown",
   "metadata": {},
   "source": [
    "# WikiPathways vs BEL gene sets comparison"
   ]
  },
  {
   "cell_type": "markdown",
   "metadata": {},
   "source": [
    "This notebook calculates the Jaccard index for gene sets in the WikiPathways database and gene sets in BEL graphs for each pathway in the database"
   ]
  },
  {
   "cell_type": "code",
   "execution_count": 1,
   "metadata": {},
   "outputs": [],
   "source": [
    "import os\n",
    "import itertools as itt\n",
    "from collections import defaultdict\n",
    "import seaborn as sns\n",
    "import matplotlib.pyplot as plt\n",
    "\n",
    "from pybel import BELGraph, from_pickle\n",
    "\n",
    "from pathme.constants import WIKIPATHWAYS_BEL\n",
    "from pathme.utils import get_files_in_folder\n",
    "\n",
    "from bio2bel_wikipathways.manager import Manager"
   ]
  },
  {
   "cell_type": "code",
   "execution_count": 2,
   "metadata": {},
   "outputs": [],
   "source": [
    "# Initiate WikiPathways Manager\n",
    "wikipathways_manager = Manager()"
   ]
  },
  {
   "cell_type": "markdown",
   "metadata": {},
   "source": [
    "### Get gene sets for each WikiPathways pathway in the WikiPathways database."
   ]
  },
  {
   "cell_type": "code",
   "execution_count": 3,
   "metadata": {},
   "outputs": [],
   "source": [
    "wikipathways_genes_set = wikipathways_manager.export_gene_sets()"
   ]
  },
  {
   "cell_type": "markdown",
   "metadata": {},
   "source": [
    "### Get gene sets for each WikiPathways pathway BEL graph"
   ]
  },
  {
   "cell_type": "code",
   "execution_count": 4,
   "metadata": {},
   "outputs": [],
   "source": [
    "# Get list of BEL graph pickles\n",
    "pickles = get_files_in_folder(WIKIPATHWAYS_BEL)"
   ]
  },
  {
   "cell_type": "code",
   "execution_count": 5,
   "metadata": {},
   "outputs": [],
   "source": [
    "def get_genes_from_pickles(resource_folder, pickles):\n",
    "    \"\"\"Get BEL graph gene set for all pathways in resource.\n",
    "\n",
    "    :param list pickles: list of BEL graph pickles\n",
    "    :return: BEL graph gene sets for each pathway in resrouce\n",
    "    :rtype: dict[str,set]\n",
    "    \"\"\"\n",
    "    pathway_genes_dict = {}\n",
    "    \n",
    "    for file in pickles:\n",
    "\n",
    "        graph = from_pickle(os.path.join(resource_folder,file))\n",
    "\n",
    "        # Get gene set for pathway \n",
    "        gene_set = get_genes_in_graph(graph)\n",
    "        file = file.strip('.pickle')\n",
    "        file = wikipathways_manager.get_pathway_by_id(file)\n",
    "        pathway_genes_dict[str(file)] = gene_set\n",
    "\n",
    "        \n",
    "    return pathway_genes_dict\n"
   ]
  },
  {
   "cell_type": "code",
   "execution_count": 6,
   "metadata": {},
   "outputs": [],
   "source": [
    "def get_genes_in_graph(graph):\n",
    "    \"\"\"Get BEL graph gene set for a pathway.\n",
    "\n",
    "    :param pybel.BELGraph graph: BEL Graph\n",
    "    :return: BEL graph gene set  \n",
    "    :rtype: set\n",
    "    \"\"\"\n",
    "    gene_set = set()\n",
    "    \n",
    "    for node, data in graph.nodes(data=True):\n",
    "        if node.function in {'Protein', 'RNA','Gene'} and node.namespace == 'HGNC':\n",
    "            gene_set.add(node.name)\n",
    "            \n",
    "    return gene_set"
   ]
  },
  {
   "cell_type": "markdown",
   "metadata": {},
   "source": [
    "### For each pathway in the WikiPathways PATHWAY database, calculate the Jaccard index for gene sets from the database and from BEL graphs "
   ]
  },
  {
   "cell_type": "code",
   "execution_count": 7,
   "metadata": {},
   "outputs": [],
   "source": [
    "def jaccard_similarity(database_gene_set, bel_genes_set):\n",
    "    \"\"\"Get Jaccard similarity for gene sets in database and BEL graphs.\n",
    "\n",
    "    :param dict database_gene_set: gene sets for each pathway in database\n",
    "    :param dict bel_genes_set: gene sets for each BEL graph\n",
    "    :return: similarity index \n",
    "    :rtype: int\n",
    "    \"\"\"    \n",
    "    jaccard_similarities = []\n",
    "    count = 0\n",
    "    count_no_similarity = 0 \n",
    "    \n",
    "    for (database_key, database_value), (bel_key, bel_value) in itt.product(database_gene_set.items(),bel_genes_set.items()):\n",
    "        \n",
    "        if database_key != bel_key:\n",
    "            continue\n",
    "\n",
    "        intersection = len(set.intersection(database_value, bel_value))\n",
    "        union = len(database_value.union(bel_value))\n",
    "        jaccard_index = intersection/union\n",
    "        jaccard_similarities.append(jaccard_index)\n",
    "        \n",
    "        if jaccard_index == 1.0:\n",
    "            count += 1\n",
    "            \n",
    "        elif jaccard_index == 0.0:\n",
    "            count_no_similarity += 1\n",
    "            \n",
    "    print('{} gene sets in the database and BEL graphs have a similarity of 100%.'.format(count))\n",
    "    print('{} gene sets in the database and BEL graphs have a similarity of 0%.'.format(count_no_similarity))\n",
    "    \n",
    "    return jaccard_similarities"
   ]
  },
  {
   "cell_type": "code",
   "execution_count": 8,
   "metadata": {},
   "outputs": [],
   "source": [
    "bel_genes_set = get_genes_from_pickles(WIKIPATHWAYS_BEL,pickles)"
   ]
  },
  {
   "cell_type": "code",
   "execution_count": 9,
   "metadata": {},
   "outputs": [
    {
     "name": "stdout",
     "output_type": "stream",
     "text": [
      "26 gene sets in the database and BEL graphs have a similarity of 100%.\n",
      "35 gene sets in the database and BEL graphs have a similarity of 0%.\n"
     ]
    }
   ],
   "source": [
    "jaccard_similarities = jaccard_similarity(wikipathways_genes_set, bel_genes_set)"
   ]
  },
  {
   "cell_type": "markdown",
   "metadata": {},
   "source": [
    "#### Visualize Jaccard index distribution"
   ]
  },
  {
   "cell_type": "code",
   "execution_count": 19,
   "metadata": {},
   "outputs": [
    {
     "name": "stderr",
     "output_type": "stream",
     "text": [
      "/home/sarah/anaconda3/lib/python3.6/site-packages/matplotlib/axes/_axes.py:6462: UserWarning: The 'normed' kwarg is deprecated, and has been replaced by the 'density' kwarg.\n",
      "  warnings.warn(\"The 'normed' kwarg is deprecated, and has been \"\n"
     ]
    },
    {
     "data": {
      "text/plain": [
       "<matplotlib.axes._subplots.AxesSubplot at 0x7fac06975ba8>"
      ]
     },
     "execution_count": 19,
     "metadata": {},
     "output_type": "execute_result"
    },
    {
     "data": {
      "image/png": "[encoded data removed]",
      "text/plain": [
       "<Figure size 720x504 with 1 Axes>"
      ]
     },
     "metadata": {},
     "output_type": "display_data"
    }
   ],
   "source": [
    "plt.figure(figsize=(10,7))\n",
    "plt.title('Jaccard Index Distribution for Gene Sets in Pathways from WikiPathways and BEL', fontsize=12)\n",
    "plt.ylabel('Frequency', fontsize=12)\n",
    "plt.xlabel('Jaccard Index', fontsize=12)\n",
    "plt.xlim(0,1)\n",
    "sns.distplot(jaccard_similarities, rug=True,  bins=20, color='#5bc0de')"
   ]
  },
  {
   "cell_type": "code",
   "execution_count": null,
   "metadata": {},
   "outputs": [],
   "source": []
  }
 ],
 "metadata": {
  "kernelspec": {
   "display_name": "Python 3",
   "language": "python",
   "name": "python3"
  },
  "language_info": {
   "codemirror_mode": {
    "name": "ipython",
    "version": 3
   },
   "file_extension": ".py",
   "mimetype": "text/x-python",
   "name": "python",
   "nbconvert_exporter": "python",
   "pygments_lexer": "ipython3",
   "version": "3.6.5"
  }
 },
 "nbformat": 4,
 "nbformat_minor": 2
}
