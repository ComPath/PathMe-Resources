{
 "cells": [
  {
   "cell_type": "markdown",
   "metadata": {},
   "source": [
    "# Namespace analysis"
   ]
  },
  {
   "cell_type": "code",
   "execution_count": 3,
   "metadata": {},
   "outputs": [],
   "source": [
    "import os\n",
    "from collections import Iterable, defaultdict\n",
    "import warnings\n",
    "import pandas as pd\n",
    "import operator\n",
    "\n",
    "from pybel import from_pickle, union\n",
    "from pybel_tools import utils\n",
    "from pybel.struct.mutation import remove_biological_processes, remove_filtered_nodes, collapse_to_genes\n",
    "from pybel.struct.filters.node_predicate_builders import function_inclusion_filter_builder\n",
    "\n",
    "from pathme.constants import REACTOME_BEL, KEGG_BEL, WIKIPATHWAYS_BEL\n",
    "from pathme.utils import get_files_in_folder\n",
    "\n",
    "from bio2bel_kegg import Manager as KeggManager\n",
    "from bio2bel_reactome import Manager as ReactomeManager\n",
    "from bio2bel_wikipathways import Manager as WikipathwaysManager"
   ]
  },
  {
   "cell_type": "code",
   "execution_count": 4,
   "metadata": {},
   "outputs": [],
   "source": [
    "%matplotlib inline"
   ]
  },
  {
   "cell_type": "code",
   "execution_count": 5,
   "metadata": {},
   "outputs": [],
   "source": [
    "# Initiate WikiPathways Manager\n",
    "wikipathways_manager = WikipathwaysManager()\n",
    "# Initiate Reactome Manager\n",
    "reactome_manager = ReactomeManager()\n",
    "# Initiate KEGG Manager\n",
    "kegg_manager = KeggManager()"
   ]
  },
  {
   "cell_type": "code",
   "execution_count": 6,
   "metadata": {},
   "outputs": [],
   "source": [
    "# Equivalent pathway IDs (ordered)\n",
    "reactome_ids = ['R-HSA-5358508','R-HSA-209968','R-HSA-195721','R-HSA-5683057','R-HSA-71336','R-HSA-1257604','R-HSA-168898','R-HSA-983705','R-HSA-157118','R-HSA-109581','R-HSA-428157','R-HSA-5358351','R-HSA-71403','R-HSA-69306','R-HSA-5693571','R-HSA-1640170','R-HSA-9006936','R-HSA-165159','R-HSA-448424','R-HSA-74182','R-HSA-1170546']               \n",
    "kegg_ids = ['hsa03430','hsa04918','hsa04310','hsa04010','hsa00030','hsa04151','hsa04620','hsa04662','hsa04330','hsa04210','hsa00600','hsa04340','hsa00020','hsa03030','hsa03450','hsa04110','hsa04350','hsa04150','hsa04657','hsa00072','hsa04917']\n",
    "wikipathways_ids = ['WP531','WP1981','WP363','WP382','WP134','WP4172','WP75','WP23','WP61','WP254','WP1422','WP47','WP78','WP466','WP438','WP179','WP366','WP1471','WP2112','WP311','WP2037']\n",
    "\n",
    "# Reactome pathways not contained in Reactome RDF file\n",
    "REACTOME_BLACK_LIST = ['R-HSA-2025928','R-HSA-9604323', 'R-HSA-9013700','R-HSA-9017802','R-HSA-168927', 'R-HSA-9014325', 'R-HSA-9013508', 'R-HSA-9013973', 'R-HSA-9013957', 'R-HSA-9013695']"
   ]
  },
  {
   "cell_type": "markdown",
   "metadata": {},
   "source": [
    "Methods used in this notebook"
   ]
  },
  {
   "cell_type": "code",
   "execution_count": 10,
   "metadata": {},
   "outputs": [],
   "source": [
    "def flatten(l):\n",
    "    for el in l:\n",
    "        if isinstance(el, Iterable) and not isinstance(el, (str, bytes)):\n",
    "            yield from flatten(el)\n",
    "        else:\n",
    "            yield el\n",
    "            \n",
    "\n",
    "def get_all_pathway_children_by_id(manager, reactome_id):\n",
    "    \n",
    "    pathway = manager.get_pathway_by_id(reactome_id)\n",
    "\n",
    "    if not pathway.children:\n",
    "        return pathway.reactome_id\n",
    "    \n",
    "    children = []\n",
    "    \n",
    "    for child in pathway.children:\n",
    "\n",
    "        children.append(get_all_pathway_children_by_id(manager, child.reactome_id))\n",
    "    \n",
    "    return children\n",
    "\n",
    "\n",
    "def get_bel_graph(resource_name, pathway_id):\n",
    "    \n",
    "    if resource_name == 'reactome':\n",
    "        \n",
    "        pickle_path = os.path.join(REACTOME_BEL, pathway_id + '.pickle')\n",
    "        \n",
    "    elif resource_name == 'kegg':\n",
    "        \n",
    "        pickle_path = os.path.join(KEGG_BEL, pathway_id + '_unflatten.pickle')\n",
    " \n",
    "    elif resource_name == 'wikipathways':\n",
    "        \n",
    "        pickle_path = os.path.join(WIKIPATHWAYS_BEL, pathway_id + '.pickle')\n",
    "    \n",
    "    # Get BEL graph from pickle \n",
    "    bel_graph = from_pickle(pickle_path)\n",
    "    \n",
    "    return bel_graph\n"
   ]
  },
  {
   "cell_type": "markdown",
   "metadata": {},
   "source": [
    "Create a dictionary for Reactome pathways with children"
   ]
  },
  {
   "cell_type": "code",
   "execution_count": 11,
   "metadata": {},
   "outputs": [],
   "source": [
    "parent_to_child = dict()\n",
    "\n",
    "for reactome_id in reactome_ids:\n",
    "    \n",
    "    all_children = get_all_pathway_children_by_id(reactome_manager, reactome_id)\n",
    "\n",
    "    if isinstance(all_children, str):\n",
    "        continue\n",
    "        \n",
    "    flattened_children = flatten(all_children)\n",
    "    parent_to_child[reactome_id] = [pathway for pathway in flattened_children]"
   ]
  },
  {
   "cell_type": "code",
   "execution_count": 38,
   "metadata": {},
   "outputs": [],
   "source": [
    "def get_namespaces_in_graph(graph):\n",
    "    \n",
    "    namespace_count = defaultdict(int)\n",
    "\n",
    "    for node in graph:\n",
    "\n",
    "        if 'namespace' in node.keys():\n",
    "\n",
    "            namespace_count[node['namespace']] += 1\n",
    "\n",
    "    return namespace_count"
   ]
  },
  {
   "cell_type": "markdown",
   "metadata": {},
   "source": [
    "Get the merged network for every equivalent pathway"
   ]
  },
  {
   "cell_type": "code",
   "execution_count": 39,
   "metadata": {},
   "outputs": [],
   "source": [
    "namespaces = dict()\n",
    "\n",
    "for counter, reactome_id in enumerate(reactome_ids):\n",
    "    \n",
    "    reactome_graphs = []\n",
    "\n",
    "    kegg_bel_graph = get_bel_graph('kegg', kegg_ids[counter])\n",
    "\n",
    "    wikipathways_bel_graph = get_bel_graph('wikipathways', wikipathways_ids[counter])\n",
    "\n",
    "    pathway_name = wikipathways_manager.get_pathway_by_id(wikipathways_ids[counter]) \n",
    "        \n",
    "    # Check if reactome ID is in black list \n",
    "    if reactome_id in REACTOME_BLACK_LIST:\n",
    "        continue\n",
    "    \n",
    "    # If Reactome parent pathway has children, get merged graph of children\n",
    "    if reactome_id in parent_to_child:            \n",
    "            \n",
    "        pathway_children = parent_to_child[reactome_id]\n",
    "\n",
    "        for child in pathway_children:\n",
    "            if child not in REACTOME_BLACK_LIST:\n",
    "\n",
    "                reactome_bel_graph = get_bel_graph('reactome', child)\n",
    "                reactome_graphs.append(reactome_bel_graph)\n",
    "                \n",
    "    # Get Reactome parent pathway graph\n",
    "    else:\n",
    "        reactome_graphs.append(get_bel_graph('reactome', reactome_id))\n",
    "    \n",
    "    reactome_bel_graph = union(reactome_graphs)\n",
    "    \n",
    "    collapse_to_genes(kegg_bel_graph)\n",
    "    collapse_to_genes(wikipathways_bel_graph)\n",
    "    collapse_to_genes(reactome_bel_graph)\n",
    "\n",
    "    namespaces[\"{}-{}\".format(pathway_name, 'kegg')] = get_namespaces_in_graph(kegg_bel_graph)\n",
    "    namespaces[\"{}-{}\".format(pathway_name, 'wikipathways')] = get_namespaces_in_graph(wikipathways_bel_graph)\n",
    "    namespaces[\"{}-{}\".format(pathway_name, 'reactome')] = get_namespaces_in_graph(reactome_bel_graph)\n",
    "    \n"
   ]
  },
  {
   "cell_type": "code",
   "execution_count": 41,
   "metadata": {},
   "outputs": [
    {
     "name": "stdout",
     "output_type": "stream",
     "text": [
      "Mismatch repair-kegg: defaultdict(<class 'int'>, {'kegg': 2, 'HGNC': 23})\n",
      "Mismatch repair-wikipathways: defaultdict(<class 'int'>, {})\n",
      "Mismatch repair-reactome: defaultdict(<class 'int'>, {'61': 25, 'obo': 8, 'HGNC': 10})\n",
      "Thyroxine (Thyroid Hormone) Production-kegg: defaultdict(<class 'int'>, {'ChEBI': 21, 'kegg': 7, 'HGNC': 74})\n",
      "Thyroxine (Thyroid Hormone) Production-wikipathways: defaultdict(<class 'int'>, {'HGNC': 5, 'Interaction': 1, 'hmdb': 1})\n",
      "Thyroxine (Thyroid Hormone) Production-reactome: defaultdict(<class 'int'>, {'obo': 6})\n",
      "Wnt Signaling Pathway-kegg: defaultdict(<class 'int'>, {'ChEBI': 1, 'kegg': 9, 'HGNC': 149})\n",
      "Wnt Signaling Pathway-wikipathways: defaultdict(<class 'int'>, {'HGNC': 34})\n",
      "Wnt Signaling Pathway-reactome: defaultdict(<class 'int'>, {'61': 155, 'obo': 19, 'HGNC': 68, 'REACTOME': 25, 'ENSEMBL': 1, 'UniProt': 1})\n",
      "MAPK Signaling Pathway-kegg: defaultdict(<class 'int'>, {'ChEBI': 5, 'kegg': 7, 'HGNC': 327})\n",
      "MAPK Signaling Pathway-wikipathways: defaultdict(<class 'int'>, {'wp_complex': 3, 'HGNC': 46, 'chebi': 2, 'wikipathways': 1, 'hmdb': 2})\n",
      "MAPK Signaling Pathway-reactome: defaultdict(<class 'int'>, {'61': 67, 'obo': 6, 'HGNC': 29, 'ENSEMBL': 2})\n",
      "Pentose Phosphate Pathway-kegg: defaultdict(<class 'int'>, {'ChEBI': 34, 'PubChem': 1, 'kegg': 7, 'HGNC': 30})\n",
      "Pentose Phosphate Pathway-wikipathways: defaultdict(<class 'int'>, {'cas': 4, 'wikipathways': 1, 'hmdb': 2, 'HGNC': 5, 'Interaction': 5})\n",
      "Pentose Phosphate Pathway-reactome: defaultdict(<class 'int'>, {'obo': 6})\n",
      "PI3K-Akt Signaling Pathway-kegg: defaultdict(<class 'int'>, {'ChEBI': 4, 'kegg': 18, 'HGNC': 370})\n",
      "PI3K-Akt Signaling Pathway-wikipathways: defaultdict(<class 'int'>, {'wp_complex': 7, 'HGNC': 45, 'chebi': 1, 'hmdb': 2, 'Interaction': 1})\n",
      "PI3K-Akt Signaling Pathway-reactome: defaultdict(<class 'int'>, {'obo': 9, '61': 54, 'HGNC': 30, 'ENSEMBL': 4})\n",
      "Toll-like Receptor Signaling Pathway-kegg: defaultdict(<class 'int'>, {'kegg': 11, 'HGNC': 107})\n",
      "Toll-like Receptor Signaling Pathway-wikipathways: defaultdict(<class 'int'>, {'wp_complex': 1, 'HGNC': 26, 'wikipathways': 1})\n",
      "Toll-like Receptor Signaling Pathway-reactome: defaultdict(<class 'int'>, {'61': 115, 'obo': 16, 'REACTOME': 15, 'HGNC': 51})\n",
      "B Cell Receptor Signaling Pathway-kegg: defaultdict(<class 'int'>, {'ChEBI': 4, 'kegg': 9, 'HGNC': 82})\n",
      "B Cell Receptor Signaling Pathway-wikipathways: defaultdict(<class 'int'>, {'HGNC': 83})\n",
      "B Cell Receptor Signaling Pathway-reactome: defaultdict(<class 'int'>, {'obo': 8, '61': 38, 'REACTOME': 9, 'HGNC': 28, 'UniProt': 1})\n",
      "Notch Signaling Pathway-kegg: defaultdict(<class 'int'>, {'kegg': 2, 'HGNC': 48})\n",
      "Notch Signaling Pathway-wikipathways: defaultdict(<class 'int'>, {'HGNC': 18})\n",
      "Notch Signaling Pathway-reactome: defaultdict(<class 'int'>, {'61': 81, 'HGNC': 32, 'REACTOME': 6, 'obo': 10, 'ENSEMBL': 5})\n",
      "Apoptosis-kegg: defaultdict(<class 'int'>, {'ChEBI': 4, 'kegg': 9, 'HGNC': 144})\n",
      "Apoptosis-wikipathways: defaultdict(<class 'int'>, {'wp_complex': 1, 'HGNC': 39, 'Interaction': 1})\n",
      "Apoptosis-reactome: defaultdict(<class 'int'>, {'61': 89, 'obo': 4, 'HGNC': 58, 'REACTOME': 1})\n",
      "Sphingolipid Metabolism-kegg: defaultdict(<class 'int'>, {'ChEBI': 22, 'PubChem': 3, 'kegg': 5, 'HGNC': 47})\n",
      "Sphingolipid Metabolism-wikipathways: defaultdict(<class 'int'>, {'Interaction': 10, 'hmdb': 12, 'wikidata': 4, 'chebi': 4, 'lipidmaps': 3, 'HGNC': 4, 'wikipathways': 2, 'EXPASY': 1})\n",
      "Sphingolipid Metabolism-reactome: defaultdict(<class 'int'>, {'obo': 63, 'REACTOME': 8, '61': 9, 'HGNC': 3})\n",
      "Hedgehog Signaling Pathway-kegg: defaultdict(<class 'int'>, {'ChEBI': 1, 'kegg': 2, 'HGNC': 49})\n",
      "Hedgehog Signaling Pathway-wikipathways: defaultdict(<class 'int'>, {'HGNC': 6})\n",
      "Hedgehog Signaling Pathway-reactome: defaultdict(<class 'int'>, {'obo': 2, '61': 31, 'HGNC': 22})\n",
      "TCA Cycle-kegg: defaultdict(<class 'int'>, {'ChEBI': 20, 'kegg': 12, 'HGNC': 30})\n",
      "TCA Cycle-wikipathways: defaultdict(<class 'int'>, {'wp_complex': 2, 'HGNC': 5, 'hmdb': 16, 'wikipathways': 6, 'Interaction': 4})\n",
      "TCA Cycle-reactome: defaultdict(<class 'int'>, {'obo': 22})\n",
      "DNA Replication-kegg: defaultdict(<class 'int'>, {'kegg': 1, 'HGNC': 36})\n",
      "DNA Replication-wikipathways: defaultdict(<class 'int'>, {})\n",
      "DNA Replication-reactome: defaultdict(<class 'int'>, {'reactome': 2, '61': 54, 'obo': 10, 'HGNC': 44})\n",
      "Non-homologous end joining-kegg: defaultdict(<class 'int'>, {'kegg': 1, 'HGNC': 13})\n",
      "Non-homologous end joining-wikipathways: defaultdict(<class 'int'>, {})\n",
      "Non-homologous end joining-reactome: defaultdict(<class 'int'>, {'61': 39, 'obo': 5, 'HGNC': 47})\n",
      "Cell Cycle-kegg: defaultdict(<class 'int'>, {'kegg': 4, 'HGNC': 134})\n",
      "Cell Cycle-wikipathways: defaultdict(<class 'int'>, {'wp_complex': 11, 'HGNC': 67, 'wikipathways': 1})\n",
      "Cell Cycle-reactome: defaultdict(<class 'int'>, {'61': 374, 'obo': 29, 'HGNC': 386, 'REACTOME': 12, 'ENSEMBL': 1})\n",
      "TGF-beta Signaling Pathway-kegg: defaultdict(<class 'int'>, {'kegg': 5, 'HGNC': 83})\n",
      "TGF-beta Signaling Pathway-wikipathways: defaultdict(<class 'int'>, {'HGNC': 69})\n",
      "TGF-beta Signaling Pathway-reactome: defaultdict(<class 'int'>, {'REACTOME': 3, '61': 71, 'obo': 4, 'HGNC': 33})\n",
      "Target Of Rapamycin (TOR) Signaling-kegg: defaultdict(<class 'int'>, {'ChEBI': 3, 'kegg': 9, 'HGNC': 154})\n",
      "Target Of Rapamycin (TOR) Signaling-wikipathways: defaultdict(<class 'int'>, {'wp_complex': 5, 'HGNC': 17, 'pubchem.compound': 1, 'wikipathways': 2})\n",
      "Target Of Rapamycin (TOR) Signaling-reactome: defaultdict(<class 'int'>, {'obo': 7, 'REACTOME': 21, '61': 1, 'HGNC': 20})\n",
      "IL17 signaling pathway-kegg: defaultdict(<class 'int'>, {'kegg': 6, 'HGNC': 94})\n",
      "IL17 signaling pathway-wikipathways: defaultdict(<class 'int'>, {'HGNC': 22})\n",
      "IL17 signaling pathway-reactome: defaultdict(<class 'int'>, {'reactome': 2, '61': 6, 'HGNC': 6})\n",
      "Synthesis and Degradation of Ketone Bodies-kegg: defaultdict(<class 'int'>, {'ChEBI': 6, 'kegg': 5, 'HGNC': 10})\n",
      "Synthesis and Degradation of Ketone Bodies-wikipathways: defaultdict(<class 'int'>, {'HGNC': 4, 'Interaction': 7, 'wikipathways': 2, 'cas': 3, 'pubchem.compound': 2})\n",
      "Synthesis and Degradation of Ketone Bodies-reactome: defaultdict(<class 'int'>, {'obo': 18})\n",
      "Prolactin Signaling Pathway-kegg: defaultdict(<class 'int'>, {'ChEBI': 11, 'kegg': 8, 'HGNC': 73})\n",
      "Prolactin Signaling Pathway-wikipathways: defaultdict(<class 'int'>, {'HGNC': 59})\n",
      "Prolactin Signaling Pathway-reactome: defaultdict(<class 'int'>, {'obo': 2, '61': 16, 'HGNC': 7})\n"
     ]
    }
   ],
   "source": [
    "for pathway, namespace in namespaces.items():\n",
    "    \n",
    "    print(\"{}: {}\".format(pathway, namespace))"
   ]
  },
  {
   "cell_type": "code",
   "execution_count": null,
   "metadata": {},
   "outputs": [],
   "source": []
  }
 ],
 "metadata": {
  "kernelspec": {
   "display_name": "Python 3",
   "language": "python",
   "name": "python3"
  },
  "language_info": {
   "codemirror_mode": {
    "name": "ipython",
    "version": 3
   },
   "file_extension": ".py",
   "mimetype": "text/x-python",
   "name": "python",
   "nbconvert_exporter": "python",
   "pygments_lexer": "ipython3",
   "version": "3.6.5"
  }
 },
 "nbformat": 4,
 "nbformat_minor": 2
}
