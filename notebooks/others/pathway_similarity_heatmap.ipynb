{
 "cells": [
  {
   "cell_type": "markdown",
   "metadata": {},
   "source": [
    "### This notebook compares the similarity of gene sets for equivalent pathways from KEGG, Reactome and WikiPathways. The gene sets are sourced from ComPath/Bio2BEL and compared to BEL graphs parsed by PathMe."
   ]
  },
  {
   "cell_type": "code",
   "execution_count": 1,
   "metadata": {},
   "outputs": [],
   "source": [
    "import os\n",
    "import itertools as itt\n",
    "from collections import Iterable, defaultdict\n",
    "import matplotlib.pyplot as plt\n",
    "import numpy as np\n",
    "import pandas as pd\n",
    "import seaborn as sns\n",
    "import time\n",
    "\n",
    "from pybel import from_pickle, union\n",
    "\n",
    "from pathme.constants import REACTOME_BEL, KEGG_BEL, WIKIPATHWAYS_BEL\n",
    "from pathme.utils import get_files_in_folder, get_genes_in_graph\n",
    "from pathme_viewer.graph_utils import add_annotation_key, add_annotation_value\n",
    "\n",
    "from bio2bel_kegg import Manager as KeggManager\n",
    "from bio2bel_reactome import Manager as ReactomeManager\n",
    "from bio2bel_wikipathways import Manager as WikipathwaysManager\n"
   ]
  },
  {
   "cell_type": "code",
   "execution_count": 2,
   "metadata": {},
   "outputs": [
    {
     "data": {
      "text/plain": [
       "'Tue Feb  5 17:27:50 2019'"
      ]
     },
     "execution_count": 2,
     "metadata": {},
     "output_type": "execute_result"
    }
   ],
   "source": [
    "time.asctime()"
   ]
  },
  {
   "cell_type": "code",
   "execution_count": 3,
   "metadata": {},
   "outputs": [],
   "source": [
    "# Initiate WikiPathways Manager\n",
    "wikipathways_manager = WikipathwaysManager()\n",
    "# Initiate Reactome Manager\n",
    "reactome_manager = ReactomeManager()\n",
    "# Initiate KEGG Manager\n",
    "kegg_manager = KeggManager()"
   ]
  },
  {
   "cell_type": "code",
   "execution_count": 4,
   "metadata": {},
   "outputs": [],
   "source": [
    "# Equivalent pathway IDs (ordered)\n",
    "reactome_ids = ['R-HSA-5358508','R-HSA-209968','R-HSA-195721','R-HSA-5683057','R-HSA-71336','R-HSA-1257604','R-HSA-168898','R-HSA-983705','R-HSA-157118','R-HSA-109581','R-HSA-428157','R-HSA-5358351','R-HSA-71403','R-HSA-69306','R-HSA-5693571','R-HSA-1640170','R-HSA-9006936','R-HSA-165159','R-HSA-448424','R-HSA-74182','R-HSA-1170546']               \n",
    "kegg_ids = ['hsa03430','hsa04918','hsa04310','hsa04010','hsa00030','hsa04151','hsa04620','hsa04662','hsa04330','hsa04210','hsa00600','hsa04340','hsa00020','hsa03030','hsa03450','hsa04110','hsa04350','hsa04150','hsa04657','hsa00072','hsa04917']\n",
    "wikipathways_ids = ['WP531','WP1981','WP363','WP382','WP134','WP4172','WP75','WP23','WP61','WP254','WP1422','WP47','WP78','WP466','WP438','WP179','WP366','WP1471','WP2112','WP311','WP2037']\n",
    "\n",
    "# Reactome pathways not contained in Reactome RDF file\n",
    "REACTOME_BLACK_LIST = ['R-HSA-2025928','R-HSA-9604323', 'R-HSA-9013700','R-HSA-9017802','R-HSA-168927', 'R-HSA-9014325', 'R-HSA-9013508', 'R-HSA-9013973', 'R-HSA-9013957', 'R-HSA-9013695','R-HSA-9627069']"
   ]
  },
  {
   "cell_type": "markdown",
   "metadata": {},
   "source": [
    "Methods used to get gene sets from BEL graphs "
   ]
  },
  {
   "cell_type": "code",
   "execution_count": 5,
   "metadata": {},
   "outputs": [],
   "source": [
    "def flatten(l):\n",
    "    for el in l:\n",
    "        if isinstance(el, Iterable) and not isinstance(el, (str, bytes)):\n",
    "            yield from flatten(el)\n",
    "        else:\n",
    "            yield el\n",
    "            \n",
    "def get_all_pathway_children_by_id(manager, reactome_id):\n",
    "    \n",
    "    children = []\n",
    "    pathway = manager.get_pathway_by_id(reactome_id)\n",
    "    \n",
    "    if not pathway.children:\n",
    "        return pathway.reactome_id  \n",
    "   \n",
    "    for child in pathway.children:\n",
    "        children.append(get_all_pathway_children_by_id(manager, child.reactome_id))\n",
    "    \n",
    "    return children\n",
    "\n",
    "def add_pathway_annotations(graph, resource_name, pathway_id):\n",
    "    \n",
    "    graph.annotation_pattern['Database'] = '.*'\n",
    "    add_annotation_key(graph)\n",
    "    add_annotation_value(graph, 'Database', resource_name)\n",
    "    \n",
    "    return graph\n",
    "\n",
    "def get_bel_graph(resource_name, pathway_id):\n",
    "    \n",
    "    if resource_name == 'reactome':        \n",
    "        pickle_path = os.path.join(REACTOME_BEL, pathway_id + '.pickle')\n",
    "        \n",
    "    elif resource_name == 'kegg':        \n",
    "        pickle_path = os.path.join(KEGG_BEL, pathway_id + '_unflatten.pickle')\n",
    " \n",
    "    elif resource_name == 'wikipathways':        \n",
    "        pickle_path = os.path.join(WIKIPATHWAYS_BEL, pathway_id + '.pickle')\n",
    "\n",
    "    bel_graph = from_pickle(pickle_path)\n",
    "    \n",
    "    return add_pathway_annotations(bel_graph, resource_name, pathway_id)\n"
   ]
  },
  {
   "cell_type": "markdown",
   "metadata": {},
   "source": [
    "Create a dictionary for Reactome pathways with children"
   ]
  },
  {
   "cell_type": "code",
   "execution_count": 6,
   "metadata": {},
   "outputs": [],
   "source": [
    "parent_to_child = dict()\n",
    "\n",
    "for reactome_id in reactome_ids:\n",
    "    \n",
    "    all_children = get_all_pathway_children_by_id(reactome_manager, reactome_id)\n",
    "    \n",
    "    if isinstance(all_children, str):\n",
    "        continue\n",
    "        \n",
    "    flattened_children = flatten(all_children)\n",
    "    parent_to_child[reactome_id] = [pathway for pathway in flattened_children]"
   ]
  },
  {
   "cell_type": "markdown",
   "metadata": {},
   "source": [
    "Get the bel-derived gene set for every equivalent pathway. In other words, these gene sets contain genes, proteins and RNA with the HGNC namespace and were parsed from the databases using PathMe."
   ]
  },
  {
   "cell_type": "code",
   "execution_count": 7,
   "metadata": {},
   "outputs": [],
   "source": [
    "kegg_bel_dict = dict()\n",
    "reactome_bel_dict = defaultdict(list)\n",
    "wikipathways_bel_dict = dict()\n",
    "\n",
    "for counter, reactome_id in enumerate(reactome_ids):\n",
    "    \n",
    "    reactome_graphs = []  \n",
    "    \n",
    "    # Get BEL graph for KEGG pathway   \n",
    "    kegg_bel_graph = get_bel_graph('kegg', kegg_ids[counter])\n",
    "    # Get gene set for BEL graph\n",
    "    kegg_bel_genes = get_genes_in_graph(kegg_bel_graph)\n",
    "    # Get dictionary of KEGG pathway IDs and their corresponding gene sets\n",
    "    kegg_bel_dict[kegg_ids[counter]] = kegg_bel_genes\n",
    "\n",
    "    # Get BEL graph for WikiPathways pathway \n",
    "    wikipathways_bel_graph = get_bel_graph('wikipathways', wikipathways_ids[counter])\n",
    "    # Get gene set for BEL graph\n",
    "    wikipathways_bel_genes = get_genes_in_graph(wikipathways_bel_graph)\n",
    "    # Get dictionary of WikiPathways pathway IDs and their corresponding gene sets\n",
    "    wikipathways_bel_dict[wikipathways_ids[counter]] = wikipathways_bel_genes\n",
    "        \n",
    "    # Check if reactome ID is in black list \n",
    "    if reactome_id in REACTOME_BLACK_LIST:\n",
    "        continue\n",
    "    \n",
    "    # If Reactome parent pathway has children, get merged graph of children\n",
    "    if reactome_id in parent_to_child:            \n",
    "        pathway_children = parent_to_child[reactome_id]\n",
    "\n",
    "        for child in pathway_children:\n",
    "            \n",
    "            if child not in REACTOME_BLACK_LIST:\n",
    "\n",
    "                reactome_bel_graph = get_bel_graph('reactome', child)\n",
    "                reactome_graphs.append(reactome_bel_graph)\n",
    "                \n",
    "    # Get Reactome parent pathway graph\n",
    "    else:\n",
    "        reactome_graphs.append(get_bel_graph('reactome', reactome_id))\n",
    "    \n",
    "    for reactome_graph in reactome_graphs:\n",
    "        # Get gene set for Reactome BEL graph\n",
    "        reactome_bel_genes = get_genes_in_graph(reactome_graph)\n",
    "        # Get dictionary of Reactome pathway IDs and their corresponding gene sets for each of its subpathways\n",
    "        reactome_bel_dict[reactome_ids[counter]].append(reactome_bel_genes)    "
   ]
  },
  {
   "cell_type": "markdown",
   "metadata": {},
   "source": [
    "If a Reactome pathway has children, flatten gene sets of the children to get the gene set for its parent pathway"
   ]
  },
  {
   "cell_type": "code",
   "execution_count": 8,
   "metadata": {},
   "outputs": [],
   "source": [
    "reactome_flattened_dict = {}\n",
    "\n",
    "for k,genes_list in reactome_bel_dict.items():\n",
    "\n",
    "    if len(genes_list) > 0 and isinstance(list(genes_list)[0], set):\n",
    "        genes_list = itt.chain.from_iterable(genes_list)\n",
    "        \n",
    "    reactome_flattened_dict[k] = genes_list\n"
   ]
  },
  {
   "cell_type": "markdown",
   "metadata": {},
   "source": [
    "Get the genesets for each database derived from ComPath/Bio2BEL "
   ]
  },
  {
   "cell_type": "code",
   "execution_count": 9,
   "metadata": {},
   "outputs": [],
   "source": [
    "kegg_gene_set = kegg_manager.export_gene_sets()\n",
    "\n",
    "kegg_gene_set = {\n",
    "    kegg_manager.get_pathway_by_name(pathway_name).resource_id.replace('path:',''): gene_set\n",
    "    for pathway_name, gene_set in kegg_gene_set.items()            \n",
    "}\n",
    "\n",
    "reactome_gene_set = reactome_manager.export_gene_sets()\n",
    "reactome_gene_set = {\n",
    "    reactome_manager.get_pathway_by_name(pathway_name).resource_id: gene_set\n",
    "    for pathway_name, gene_set in reactome_gene_set.items()     \n",
    "}\n",
    "\n",
    "wikipathways_gene_set = wikipathways_manager.export_gene_sets()\n",
    "wikipathways_gene_set = {\n",
    "    wikipathways_manager.get_pathway_by_name(pathway_name).resource_id: gene_set\n",
    "    for pathway_name, gene_set in wikipathways_gene_set.items()\n",
    "}\n"
   ]
  },
  {
   "cell_type": "markdown",
   "metadata": {},
   "source": [
    "For equivalent pathways in the databases, calculate the Jaccard index for gene sets from ComPath/Bio2BEL and from BEL graphs "
   ]
  },
  {
   "cell_type": "code",
   "execution_count": 10,
   "metadata": {},
   "outputs": [],
   "source": [
    "def jaccard_similarity(compath_genes_set, bel_genes_set):\n",
    "    \"\"\"Get Jaccard similarity for gene sets in 21 equivalent pathways from KEGG and BEL graphs.\n",
    "\n",
    "    :param dict kegg_genes_set: gene sets for pathways in KEGG PATHWAYS database\n",
    "    :param dict bel_genes_set: gene sets for BEL graphs\n",
    "    :return: similarity index dictionary\n",
    "    :rtype: int\n",
    "    \"\"\"    \n",
    "    similarity_scores_dict = {}\n",
    "    \n",
    "    for (compath_key, compath_value), (bel_key, bel_value) in itt.product(compath_genes_set.items(),bel_genes_set.items()):\n",
    "        \n",
    "        if compath_key != bel_key:\n",
    "            continue\n",
    "            \n",
    "        intersection = len(set.intersection(compath_value, bel_value))\n",
    "        union = len(compath_value.union(bel_value))\n",
    "        jaccard_index = intersection/union\n",
    "        \n",
    "        similarity_scores_dict[(compath_key, bel_key)] = jaccard_index\n",
    "        \n",
    "    return similarity_scores_dict\n",
    "\n"
   ]
  },
  {
   "cell_type": "code",
   "execution_count": 11,
   "metadata": {},
   "outputs": [],
   "source": [
    "kegg_similarity_dict = jaccard_similarity(kegg_gene_set, kegg_bel_dict)\n",
    "reactome_similarity_dict = jaccard_similarity(reactome_gene_set, reactome_flattened_dict)\n",
    "wikipathways_similarity_dict = jaccard_similarity(wikipathways_gene_set, wikipathways_bel_dict)"
   ]
  },
  {
   "cell_type": "markdown",
   "metadata": {},
   "source": [
    "### Visualize the similarity between gene sets from ComPath/Bio2BEL and those from PathMe/BEL graphs "
   ]
  },
  {
   "cell_type": "code",
   "execution_count": 12,
   "metadata": {},
   "outputs": [],
   "source": [
    "def get_similarity_heatmap(similarity_dict):\n",
    "    \n",
    "    ser = pd.Series(list(similarity_dict.values()),\n",
    "                      index=pd.MultiIndex.from_tuples(similarity_dict.keys()))\n",
    "    df = ser.unstack().fillna(0)\n",
    "    \n",
    "    sns.heatmap(df)"
   ]
  },
  {
   "cell_type": "code",
   "execution_count": 13,
   "metadata": {},
   "outputs": [
    {
     "data": {
      "image/png": "[encoded data removed]",
      "text/plain": [
       "<Figure size 432x288 with 2 Axes>"
      ]
     },
     "metadata": {},
     "output_type": "display_data"
    }
   ],
   "source": [
    "get_similarity_heatmap(kegg_similarity_dict)"
   ]
  },
  {
   "cell_type": "code",
   "execution_count": 14,
   "metadata": {},
   "outputs": [
    {
     "data": {
      "image/png": "[encoded data removed]",
      "text/plain": [
       "<Figure size 432x288 with 2 Axes>"
      ]
     },
     "metadata": {},
     "output_type": "display_data"
    }
   ],
   "source": [
    "get_similarity_heatmap(wikipathways_similarity_dict)"
   ]
  },
  {
   "cell_type": "markdown",
   "metadata": {},
   "source": [
    "The WP identifiers WP466, WP438 and WP531 have a Jaccard similarity index of 0. This is because they are purely graphical representations. Other identifiers (e.g., WP4172 and WP47) also have low similarity scores which can also be largely attributed to their represented as cartoons."
   ]
  },
  {
   "cell_type": "code",
   "execution_count": 15,
   "metadata": {},
   "outputs": [
    {
     "data": {
      "image/png": "[encoded data removed]",
      "text/plain": [
       "<Figure size 432x288 with 2 Axes>"
      ]
     },
     "metadata": {},
     "output_type": "display_data"
    }
   ],
   "source": [
    "get_similarity_heatmap(reactome_similarity_dict)"
   ]
  },
  {
   "cell_type": "markdown",
   "metadata": {},
   "source": [
    "The Reactome identifiers with similarity scores of 0 (i.e., R-HSA-71403, R-HSA-74182, R-HSA-71336, R-HSA-209968) do not contain genes or gene products in their BEL graph representations. Similarly, Reactome identifiers with low similarity also contain few or none genes or gene products."
   ]
  }
 ],
 "metadata": {
  "kernelspec": {
   "display_name": "Python 3",
   "language": "python",
   "name": "python3"
  },
  "language_info": {
   "codemirror_mode": {
    "name": "ipython",
    "version": 3
   },
   "file_extension": ".py",
   "mimetype": "text/x-python",
   "name": "python",
   "nbconvert_exporter": "python",
   "pygments_lexer": "ipython3",
   "version": "3.6.5"
  }
 },
 "nbformat": 4,
 "nbformat_minor": 2
}
