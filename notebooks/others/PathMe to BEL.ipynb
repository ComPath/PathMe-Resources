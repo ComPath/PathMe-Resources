{
 "cells": [
  {
   "cell_type": "markdown",
   "metadata": {},
   "source": [
    "# PathMe to BEL\n",
    "\n",
    "This notebook transforms PathMe networks into BEL.\n",
    "\n",
    "Author: [Daniel Domingo-Fernández](https://github.com/ddomingof)"
   ]
  },
  {
   "cell_type": "code",
   "execution_count": 1,
   "metadata": {},
   "outputs": [],
   "source": [
    "import os\n",
    "import pybel\n",
    "import collections\n",
    "\n",
    "import itertools as itt\n",
    "from tqdm import tqdm_notebook\n",
    "\n",
    "from pathme.constants import REACTOME_BEL, KEGG_BEL, WIKIPATHWAYS_BEL, KEGG, UNIVERSE_DIR, WIKIPATHWAYS, REACTOME\n",
    "from pathme.export_utils import get_files_in_folder\n",
    "\n",
    "from bio2bel_kegg import Manager as KeggManager\n",
    "from bio2bel_reactome import Manager as ReactomeManager\n",
    "from bio2bel_wikipathways import Manager as WikiPathwaysManager\n",
    "\n",
    "import pybel_tools\n",
    "\n",
    "from pathme.pybel_utils import flatten_complex_nodes\n",
    "from pathme.normalize_names import normalize_graph_names"
   ]
  },
  {
   "cell_type": "code",
   "execution_count": 2,
   "metadata": {},
   "outputs": [],
   "source": [
    "def flatten(l):\n",
    "    \"\"\"Flatten recursively iterables.\"\"\"\n",
    "    for el in l:\n",
    "        if isinstance(el, collections.Iterable) and not isinstance(el, (str, bytes)):\n",
    "            yield from flatten(el)\n",
    "        else:\n",
    "            yield el\n",
    "\n",
    "def get_all_children(pathway):\n",
    "    \"\"\"Transverse the Reactome hierarchy recursively to get all the children for a given pathway.\"\"\"\n",
    "    if not pathway.children:\n",
    "        return pathway\n",
    "    \n",
    "    return [\n",
    "        get_all_children(child)\n",
    "        for child in pathway.children\n",
    "    ]\n",
    "\n",
    "def export_to_bel(directory, manager, database, flat_nodes=False):\n",
    "    \n",
    "    pickles = get_files_in_folder(directory)\n",
    "    \n",
    "    for file in tqdm_notebook(pickles, desc='Loading pickles'):\n",
    "        \n",
    "        # Skip files that do not end in pickle\n",
    "        if not file.endswith('.pickle'):\n",
    "            continue\n",
    "            \n",
    "        pathway_id = file.strip('.pickle').strip('_unflatten').strip('_flatten')\n",
    "        \n",
    "        # Fix pathway identifier notation for KEGG\n",
    "        if database == KEGG:\n",
    "            pathway_id = \"path:{}\".format(pathway_id)\n",
    "        \n",
    "        # Get pathway raw in the DB\n",
    "        pathway =  manager.get_pathway_by_id(pathway_id)\n",
    "        \n",
    "        # Throw an error if the pathway is not in the database\n",
    "        if not pathway:\n",
    "            raise ValueError(f'Pathway not found: {pathway_id}')\n",
    "        \n",
    "        # Tranverse the Reactome hierarchy and get all the children\n",
    "        if database == REACTOME and pathway.children:\n",
    "            \n",
    "            children = get_all_children(pathway)\n",
    "                        \n",
    "            children = list(flatten(children))\n",
    "            \n",
    "            graphs_to_merge = []\n",
    "            \n",
    "            for child in children:\n",
    "                # Inform that the children couldnt been found in the default directory\n",
    "                if f\"{child.resource_id}.pickle\" not in pickles:\n",
    "                    print(f'Child not found: {child.resource_id}')\n",
    "                    continue\n",
    "                    \n",
    "                graphs_to_merge.append(\n",
    "                    pybel.from_pickle(\n",
    "                        os.path.join(directory, f\"{child.resource_id}.pickle\")\n",
    "                    )\n",
    "                )\n",
    "            \n",
    "            # Inform if there isnt any graph to be merged\n",
    "            if not graphs_to_merge:\n",
    "                print(f'Not graphs to merge for {pathway_id}')\n",
    "                continue\n",
    "                \n",
    "            graph = pybel.union(graphs_to_merge)\n",
    "            \n",
    "        else:\n",
    "            graph = pybel.from_pickle(os.path.join(directory, file))\n",
    "        \n",
    "        # Option to flatten complexes/reactions and so on...\n",
    "        if flatten:\n",
    "            flatten_complex_nodes(graph)\n",
    "        \n",
    "        # Manual postprocessing of names to improve harmonization\n",
    "        normalize_graph_names(graph, database)\n",
    "        \n",
    "        pybel.to_bel_path(graph, os.path.join(UNIVERSE_DIR, f'{pathway.name.replace(\"/\",\".\")}.bel'))\n",
    "    "
   ]
  },
  {
   "cell_type": "markdown",
   "metadata": {},
   "source": [
    "Initialize the Bio2BEL Managers"
   ]
  },
  {
   "cell_type": "code",
   "execution_count": 3,
   "metadata": {},
   "outputs": [],
   "source": [
    "kegg_manager = KeggManager()\n",
    "reactome_manager = ReactomeManager()\n",
    "wikipathways_manager = WikiPathwaysManager()"
   ]
  },
  {
   "cell_type": "markdown",
   "metadata": {},
   "source": [
    "Export each database to raw BEL\n",
    "\n",
    "*Note that you can pass the flat_nodes argument*"
   ]
  },
  {
   "cell_type": "code",
   "execution_count": 4,
   "metadata": {},
   "outputs": [
    {
     "data": {
      "text/plain": [
       "HBox(children=(IntProgress(value=0, description='Loading pickles', max=2256, style=ProgressStyle(description_w…"
      ]
     },
     "metadata": {},
     "output_type": "display_data"
    },
    {
     "name": "stdout",
     "output_type": "stream",
     "text": [
      "Child not found: R-HSA-9634600\n",
      "Child not found: R-HSA-9634638\n",
      "Child not found: R-HSA-9634635\n",
      "Child not found: R-HSA-9634638\n",
      "Child not found: R-HSA-9634635\n",
      "Child not found: R-HSA-434313\n",
      "Child not found: R-HSA-9634600\n",
      "Child not found: R-HSA-9033807\n",
      "Child not found: R-HSA-9037629\n",
      "Child not found: R-HSA-9037628\n",
      "Child not found: R-HSA-9636003\n",
      "Child not found: R-HSA-9636003\n",
      "Child not found: R-HSA-9616334\n",
      "Child not found: R-HSA-9629232\n",
      "Child not found: R-HSA-9630222\n",
      "Child not found: R-HSA-9630221\n",
      "Child not found: R-HSA-434313\n",
      "Child not found: R-HSA-9634638\n",
      "Child not found: R-HSA-9634635\n",
      "Child not found: R-HSA-9636003\n",
      "Child not found: R-HSA-9634600\n",
      "Child not found: R-HSA-434313\n",
      "Child not found: R-HSA-9616334\n",
      "Child not found: R-HSA-9629232\n",
      "Child not found: R-HSA-9630222\n",
      "Child not found: R-HSA-9630221\n",
      "Child not found: R-HSA-9603798\n",
      "Child not found: R-HSA-9609523\n",
      "Child not found: R-HSA-9634600\n",
      "Child not found: R-HSA-9033807\n",
      "Child not found: R-HSA-9037629\n",
      "Child not found: R-HSA-9037628\n",
      "Child not found: R-HSA-9609736\n",
      "Child not found: R-HSA-9609736\n",
      "Child not found: R-HSA-9609736\n",
      "Child not found: R-HSA-434313\n",
      "Child not found: R-HSA-9609736\n",
      "\n"
     ]
    }
   ],
   "source": [
    "export_to_bel(REACTOME_BEL, reactome_manager, REACTOME, flat_nodes=True)"
   ]
  },
  {
   "cell_type": "code",
   "execution_count": 5,
   "metadata": {},
   "outputs": [],
   "source": [
    "# export_to_bel(KEGG_BEL, kegg_manager, KEGG, flat_nodes=True)"
   ]
  },
  {
   "cell_type": "code",
   "execution_count": 6,
   "metadata": {},
   "outputs": [],
   "source": [
    "# export_to_bel(WIKIPATHWAYS_BEL, wikipathways_manager, WIKIPATHWAYS, flat_nodes=True)"
   ]
  }
 ],
 "metadata": {
  "kernelspec": {
   "display_name": "Python 3",
   "language": "python",
   "name": "python3"
  },
  "language_info": {
   "codemirror_mode": {
    "name": "ipython",
    "version": 3
   },
   "file_extension": ".py",
   "mimetype": "text/x-python",
   "name": "python",
   "nbconvert_exporter": "python",
   "pygments_lexer": "ipython3",
   "version": "3.6.5"
  }
 },
 "nbformat": 4,
 "nbformat_minor": 2
}
