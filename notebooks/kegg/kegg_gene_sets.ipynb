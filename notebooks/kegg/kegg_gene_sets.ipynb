{
 "cells": [
  {
   "cell_type": "markdown",
   "metadata": {},
   "source": [
    "# KEGG vs BEL gene sets comparison"
   ]
  },
  {
   "cell_type": "markdown",
   "metadata": {},
   "source": [
    "### This notebook calculates the Jaccard index for gene sets in the KEGG PATHWAY database and gene sets in BEL graphs for each pathway in the KEGG PATHWAY database"
   ]
  },
  {
   "cell_type": "code",
   "execution_count": 1,
   "metadata": {},
   "outputs": [],
   "source": [
    "import os\n",
    "import itertools as itt\n",
    "from collections import defaultdict\n",
    "import seaborn as sns\n",
    "import matplotlib as mpl\n",
    "import matplotlib.pyplot as plt\n",
    "from pybel import BELGraph, from_pickle\n",
    "\n",
    "from pathme.constants import KEGG_BEL\n",
    "from pathme.utils import get_files_in_folder\n",
    "from pathme.utils import get_files_in_folder, get_genes_from_pickles, get_genes_in_graph, jaccard_similarity\n",
    "\n",
    "from bio2bel_kegg.manager import Manager"
   ]
  },
  {
   "cell_type": "code",
   "execution_count": 2,
   "metadata": {},
   "outputs": [],
   "source": [
    "# Initiate KEGG Manager\n",
    "kegg_manager = Manager()"
   ]
  },
  {
   "cell_type": "markdown",
   "metadata": {},
   "source": [
    "### Get gene sets for each KEGG pathway in the KEGG PATHWAY database."
   ]
  },
  {
   "cell_type": "code",
   "execution_count": 3,
   "metadata": {},
   "outputs": [],
   "source": [
    "kegg_genes_set = kegg_manager.export_gene_sets()"
   ]
  },
  {
   "cell_type": "markdown",
   "metadata": {},
   "source": [
    "### Get gene sets for each KEGG pathway BEL graph"
   ]
  },
  {
   "cell_type": "code",
   "execution_count": 4,
   "metadata": {},
   "outputs": [],
   "source": [
    "# Get list of BEL graph pickles\n",
    "pickles = get_files_in_folder(KEGG_BEL)"
   ]
  },
  {
   "cell_type": "code",
   "execution_count": 5,
   "metadata": {},
   "outputs": [],
   "source": [
    "def get_genes_from_pickles(pickles):\n",
    "    \"\"\"Get BEL graph gene set for all KEGG pathways.\n",
    "\n",
    "    :param list pickles: list of BEL graph pickles\n",
    "    :return: BEL graph gene sets for each KEGG pathway \n",
    "    :rtype: dict[str,set]\n",
    "    \"\"\"\n",
    "    pathway_genes_dict = {}\n",
    "    \n",
    "    for file_name in pickles:\n",
    "        \n",
    "        # Flattened graphs considered for gene sets \n",
    "        if file_name.endswith('_flatten.pickle'):\n",
    "            graph = from_pickle(os.path.join(KEGG_BEL,file_name))\n",
    "            \n",
    "            # Get gene set for pathway \n",
    "            gene_set = get_genes_in_graph(graph) \n",
    "            file_name = file_name.strip('_flatten.pickle')\n",
    "            file_name = 'path:' + file_name\n",
    "            file_name = kegg_manager.get_pathway_by_id(file_name)\n",
    "\n",
    "            pathway_genes_dict[str(file_name)] = gene_set\n",
    "                \n",
    "    return pathway_genes_dict\n"
   ]
  },
  {
   "cell_type": "code",
   "execution_count": 6,
   "metadata": {},
   "outputs": [],
   "source": [
    "def get_genes_in_graph(graph):\n",
    "    \"\"\"Get BEL graph gene set for a KEGG pathway.\n",
    "\n",
    "    :param pybel.BELGraph graph: BEL Graph\n",
    "    :return: BEL graph gene set  \n",
    "    :rtype: set\n",
    "    \"\"\"\n",
    "    gene_set = set()\n",
    "    \n",
    "    for node, data in graph.nodes(data=True):\n",
    "        if node.function in {'Protein', 'RNA'} and node.namespace == 'HGNC':\n",
    "            gene_set.add(node.name)\n",
    "            \n",
    "    return gene_set"
   ]
  },
  {
   "cell_type": "code",
   "execution_count": 7,
   "metadata": {},
   "outputs": [],
   "source": [
    "bel_genes_set = get_genes_from_pickles(pickles)"
   ]
  },
  {
   "cell_type": "markdown",
   "metadata": {},
   "source": [
    "### For each pathway in the KEGG PATHWAY database, calculate the Jaccard index for gene sets from the database and from BEL graphs "
   ]
  },
  {
   "cell_type": "code",
   "execution_count": 8,
   "metadata": {},
   "outputs": [],
   "source": [
    "jaccard_similarities = jaccard_similarity(kegg_genes_set, bel_genes_set)"
   ]
  },
  {
   "cell_type": "markdown",
   "metadata": {},
   "source": [
    "### Visualize Jaccard index distribution"
   ]
  },
  {
   "cell_type": "code",
   "execution_count": 9,
   "metadata": {},
   "outputs": [
    {
     "name": "stderr",
     "output_type": "stream",
     "text": [
      "/home/sarah/anaconda3/lib/python3.6/site-packages/matplotlib/axes/_axes.py:6462: UserWarning: The 'normed' kwarg is deprecated, and has been replaced by the 'density' kwarg.\n",
      "  warnings.warn(\"The 'normed' kwarg is deprecated, and has been \"\n"
     ]
    },
    {
     "data": {
      "text/plain": [
       "<matplotlib.axes._subplots.AxesSubplot at 0x7f920a384748>"
      ]
     },
     "execution_count": 9,
     "metadata": {},
     "output_type": "execute_result"
    },
    {
     "data": {
      "image/png": "[encoded data removed]",
      "text/plain": [
       "<Figure size 720x504 with 1 Axes>"
      ]
     },
     "metadata": {},
     "output_type": "display_data"
    }
   ],
   "source": [
    "plt.figure(figsize=(10,7))\n",
    "plt.title('Jaccard Index Distribution for Gene Sets in pathways from KEGG PATHWAYS and BEL', fontsize=12)\n",
    "plt.ylabel('Frequency', fontsize=12)\n",
    "plt.xlabel('Jaccard Index', fontsize=12)\n",
    "\n",
    "sns.distplot(jaccard_similarities, axlabel='Jaccard Index', rug=True, bins=20, color='#5cb85c')\n"
   ]
  },
  {
   "cell_type": "code",
   "execution_count": null,
   "metadata": {},
   "outputs": [],
   "source": []
  }
 ],
 "metadata": {
  "kernelspec": {
   "display_name": "Python 3",
   "language": "python",
   "name": "python3"
  },
  "language_info": {
   "codemirror_mode": {
    "name": "ipython",
    "version": 3
   },
   "file_extension": ".py",
   "mimetype": "text/x-python",
   "name": "python",
   "nbconvert_exporter": "python",
   "pygments_lexer": "ipython3",
   "version": "3.6.5"
  }
 },
 "nbformat": 4,
 "nbformat_minor": 2
}
