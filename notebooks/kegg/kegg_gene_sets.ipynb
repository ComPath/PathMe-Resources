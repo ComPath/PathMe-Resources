{
 "cells": [
  {
   "cell_type": "markdown",
   "metadata": {},
   "source": [
    "# KEGG vs BEL gene sets comparison"
   ]
  },
  {
   "cell_type": "markdown",
   "metadata": {},
   "source": [
    "### This notebook calculates the Jaccard index for gene sets in the KEGG PATHWAY database and gene sets in BEL graphs for each pathway in the KEGG PATHWAY database"
   ]
  },
  {
   "cell_type": "code",
   "execution_count": 1,
   "metadata": {},
   "outputs": [],
   "source": [
    "import seaborn as sns\n",
    "import matplotlib.pyplot as plt\n",
    "from pybel import from_pickle\n",
    "\n",
    "from pathme.constants import KEGG_BEL\n",
    "from pathme.utils import get_files_in_folder, get_kegg_genes_from_pickles, get_genes_in_graph, jaccard_similarity\n",
    "\n",
    "from bio2bel_kegg.manager import Manager\n",
    "#TODO: import WP & reactome managers"
   ]
  },
  {
   "cell_type": "code",
   "execution_count": 2,
   "metadata": {},
   "outputs": [],
   "source": [
    "# Initiate KEGG Manager\n",
    "kegg_manager = Manager()"
   ]
  },
  {
   "cell_type": "markdown",
   "metadata": {},
   "source": [
    "### Get gene sets for each KEGG pathway in the KEGG PATHWAY database."
   ]
  },
  {
   "cell_type": "code",
   "execution_count": 3,
   "metadata": {},
   "outputs": [],
   "source": [
    "kegg_genes_set = kegg_manager.export_gene_sets()"
   ]
  },
  {
   "cell_type": "code",
   "execution_count": 11,
   "metadata": {},
   "outputs": [
    {
     "data": {
      "text/plain": [
       "{'Glycolysis / Gluconeogenesis - Homo sapiens (human)': set(),\n",
       " 'Citrate cycle (TCA cycle) - Homo sapiens (human)': set(),\n",
       " 'Pentose phosphate pathway - Homo sapiens (human)': set(),\n",
       " 'Pentose and glucuronate interconversions - Homo sapiens (human)': set(),\n",
       " 'Fructose and mannose metabolism - Homo sapiens (human)': set(),\n",
       " 'Galactose metabolism - Homo sapiens (human)': set(),\n",
       " 'Ascorbate and aldarate metabolism - Homo sapiens (human)': set(),\n",
       " 'Fatty acid biosynthesis - Homo sapiens (human)': set(),\n",
       " 'Fatty acid elongation - Homo sapiens (human)': set(),\n",
       " 'Fatty acid degradation - Homo sapiens (human)': set(),\n",
       " 'Synthesis and degradation of ketone bodies - Homo sapiens (human)': set(),\n",
       " 'Steroid biosynthesis - Homo sapiens (human)': set(),\n",
       " 'Primary bile acid biosynthesis - Homo sapiens (human)': set(),\n",
       " 'Ubiquinone and other terpenoid-quinone biosynthesis - Homo sapiens (human)': set(),\n",
       " 'Steroid hormone biosynthesis - Homo sapiens (human)': set(),\n",
       " 'Oxidative phosphorylation - Homo sapiens (human)': set(),\n",
       " 'Arginine biosynthesis - Homo sapiens (human)': set(),\n",
       " 'Purine metabolism - Homo sapiens (human)': set(),\n",
       " 'Caffeine metabolism - Homo sapiens (human)': set(),\n",
       " 'Pyrimidine metabolism - Homo sapiens (human)': set(),\n",
       " 'Alanine, aspartate and glutamate metabolism - Homo sapiens (human)': set(),\n",
       " 'Glycine, serine and threonine metabolism - Homo sapiens (human)': set(),\n",
       " 'Cysteine and methionine metabolism - Homo sapiens (human)': set(),\n",
       " 'Valine, leucine and isoleucine degradation - Homo sapiens (human)': set(),\n",
       " 'Valine, leucine and isoleucine biosynthesis - Homo sapiens (human)': set(),\n",
       " 'Lysine degradation - Homo sapiens (human)': set(),\n",
       " 'Arginine and proline metabolism - Homo sapiens (human)': set(),\n",
       " 'Histidine metabolism - Homo sapiens (human)': set(),\n",
       " 'Tyrosine metabolism - Homo sapiens (human)': set(),\n",
       " 'Phenylalanine metabolism - Homo sapiens (human)': set(),\n",
       " 'Tryptophan metabolism - Homo sapiens (human)': set(),\n",
       " 'Phenylalanine, tyrosine and tryptophan biosynthesis - Homo sapiens (human)': set(),\n",
       " 'beta-Alanine metabolism - Homo sapiens (human)': set(),\n",
       " 'Taurine and hypotaurine metabolism - Homo sapiens (human)': set(),\n",
       " 'Phosphonate and phosphinate metabolism - Homo sapiens (human)': set(),\n",
       " 'Selenocompound metabolism - Homo sapiens (human)': set(),\n",
       " 'D-Glutamine and D-glutamate metabolism - Homo sapiens (human)': set(),\n",
       " 'D-Arginine and D-ornithine metabolism - Homo sapiens (human)': set(),\n",
       " 'Glutathione metabolism - Homo sapiens (human)': set(),\n",
       " 'Starch and sucrose metabolism - Homo sapiens (human)': set(),\n",
       " 'N-Glycan biosynthesis - Homo sapiens (human)': set(),\n",
       " 'Other glycan degradation - Homo sapiens (human)': set(),\n",
       " 'Mucin type O-glycan biosynthesis - Homo sapiens (human)': set(),\n",
       " 'Other types of O-glycan biosynthesis - Homo sapiens (human)': set(),\n",
       " 'Mannose type O-glycan biosynthesis - Homo sapiens (human)': set(),\n",
       " 'Amino sugar and nucleotide sugar metabolism - Homo sapiens (human)': set(),\n",
       " 'Neomycin, kanamycin and gentamicin biosynthesis - Homo sapiens (human)': set(),\n",
       " 'Glycosaminoglycan degradation - Homo sapiens (human)': set(),\n",
       " 'Glycosaminoglycan biosynthesis - chondroitin sulfate / dermatan sulfate - Homo sapiens (human)': set(),\n",
       " 'Glycosaminoglycan biosynthesis - keratan sulfate - Homo sapiens (human)': set(),\n",
       " 'Glycosaminoglycan biosynthesis - heparan sulfate / heparin - Homo sapiens (human)': set(),\n",
       " 'Glycerolipid metabolism - Homo sapiens (human)': set(),\n",
       " 'Inositol phosphate metabolism - Homo sapiens (human)': set(),\n",
       " 'Glycosylphosphatidylinositol (GPI)-anchor biosynthesis - Homo sapiens (human)': set(),\n",
       " 'Glycerophospholipid metabolism - Homo sapiens (human)': set(),\n",
       " 'Ether lipid metabolism - Homo sapiens (human)': set(),\n",
       " 'Arachidonic acid metabolism - Homo sapiens (human)': set(),\n",
       " 'Linoleic acid metabolism - Homo sapiens (human)': set(),\n",
       " 'alpha-Linolenic acid metabolism - Homo sapiens (human)': set(),\n",
       " 'Sphingolipid metabolism - Homo sapiens (human)': set(),\n",
       " 'Glycosphingolipid biosynthesis - lacto and neolacto series - Homo sapiens (human)': set(),\n",
       " 'Glycosphingolipid biosynthesis - globo and isoglobo series - Homo sapiens (human)': set(),\n",
       " 'Glycosphingolipid biosynthesis - ganglio series - Homo sapiens (human)': set(),\n",
       " 'Pyruvate metabolism - Homo sapiens (human)': set(),\n",
       " 'Glyoxylate and dicarboxylate metabolism - Homo sapiens (human)': set(),\n",
       " 'Propanoate metabolism - Homo sapiens (human)': set(),\n",
       " 'Butanoate metabolism - Homo sapiens (human)': set(),\n",
       " 'One carbon pool by folate - Homo sapiens (human)': set(),\n",
       " 'Thiamine metabolism - Homo sapiens (human)': set(),\n",
       " 'Riboflavin metabolism - Homo sapiens (human)': set(),\n",
       " 'Vitamin B6 metabolism - Homo sapiens (human)': set(),\n",
       " 'Nicotinate and nicotinamide metabolism - Homo sapiens (human)': set(),\n",
       " 'Pantothenate and CoA biosynthesis - Homo sapiens (human)': set(),\n",
       " 'Biotin metabolism - Homo sapiens (human)': set(),\n",
       " 'Lipoic acid metabolism - Homo sapiens (human)': set(),\n",
       " 'Folate biosynthesis - Homo sapiens (human)': set(),\n",
       " 'Retinol metabolism - Homo sapiens (human)': set(),\n",
       " 'Porphyrin and chlorophyll metabolism - Homo sapiens (human)': set(),\n",
       " 'Terpenoid backbone biosynthesis - Homo sapiens (human)': set(),\n",
       " 'Nitrogen metabolism - Homo sapiens (human)': set(),\n",
       " 'Sulfur metabolism - Homo sapiens (human)': set(),\n",
       " 'Aminoacyl-tRNA biosynthesis - Homo sapiens (human)': set(),\n",
       " 'Metabolism of xenobiotics by cytochrome P450 - Homo sapiens (human)': set(),\n",
       " 'Drug metabolism - cytochrome P450 - Homo sapiens (human)': set(),\n",
       " 'Drug metabolism - other enzymes - Homo sapiens (human)': set(),\n",
       " 'Biosynthesis of unsaturated fatty acids - Homo sapiens (human)': set(),\n",
       " 'Metabolic pathways - Homo sapiens (human)': set(),\n",
       " 'Carbon metabolism - Homo sapiens (human)': set(),\n",
       " '2-Oxocarboxylic acid metabolism - Homo sapiens (human)': set(),\n",
       " 'Fatty acid metabolism - Homo sapiens (human)': set(),\n",
       " 'Biosynthesis of amino acids - Homo sapiens (human)': set(),\n",
       " 'EGFR tyrosine kinase inhibitor resistance - Homo sapiens (human)': set(),\n",
       " 'Endocrine resistance - Homo sapiens (human)': set(),\n",
       " 'Antifolate resistance - Homo sapiens (human)': set(),\n",
       " 'Platinum drug resistance - Homo sapiens (human)': set(),\n",
       " 'ABC transporters - Homo sapiens (human)': set(),\n",
       " 'Ribosome biogenesis in eukaryotes - Homo sapiens (human)': set(),\n",
       " 'Ribosome - Homo sapiens (human)': set(),\n",
       " 'RNA transport - Homo sapiens (human)': set(),\n",
       " 'mRNA surveillance pathway - Homo sapiens (human)': set(),\n",
       " 'RNA degradation - Homo sapiens (human)': set(),\n",
       " 'RNA polymerase - Homo sapiens (human)': set(),\n",
       " 'Basal transcription factors - Homo sapiens (human)': set(),\n",
       " 'DNA replication - Homo sapiens (human)': set(),\n",
       " 'Spliceosome - Homo sapiens (human)': set(),\n",
       " 'Proteasome - Homo sapiens (human)': set(),\n",
       " 'Protein export - Homo sapiens (human)': set(),\n",
       " 'PPAR signaling pathway - Homo sapiens (human)': set(),\n",
       " 'Base excision repair - Homo sapiens (human)': set(),\n",
       " 'Nucleotide excision repair - Homo sapiens (human)': set(),\n",
       " 'Mismatch repair - Homo sapiens (human)': set(),\n",
       " 'Homologous recombination - Homo sapiens (human)': set(),\n",
       " 'Non-homologous end-joining - Homo sapiens (human)': set(),\n",
       " 'Fanconi anemia pathway - Homo sapiens (human)': set(),\n",
       " 'MAPK signaling pathway - Homo sapiens (human)': set(),\n",
       " 'ErbB signaling pathway - Homo sapiens (human)': set(),\n",
       " 'Ras signaling pathway - Homo sapiens (human)': set(),\n",
       " 'Rap1 signaling pathway - Homo sapiens (human)': set(),\n",
       " 'Calcium signaling pathway - Homo sapiens (human)': set(),\n",
       " 'cGMP-PKG signaling pathway - Homo sapiens (human)': set(),\n",
       " 'cAMP signaling pathway - Homo sapiens (human)': set(),\n",
       " 'Cytokine-cytokine receptor interaction - Homo sapiens (human)': set(),\n",
       " 'Chemokine signaling pathway - Homo sapiens (human)': set(),\n",
       " 'NF-kappa B signaling pathway - Homo sapiens (human)': set(),\n",
       " 'HIF-1 signaling pathway - Homo sapiens (human)': set(),\n",
       " 'FoxO signaling pathway - Homo sapiens (human)': set(),\n",
       " 'Phosphatidylinositol signaling system - Homo sapiens (human)': set(),\n",
       " 'Sphingolipid signaling pathway - Homo sapiens (human)': set(),\n",
       " 'Phospholipase D signaling pathway - Homo sapiens (human)': set(),\n",
       " 'Neuroactive ligand-receptor interaction - Homo sapiens (human)': set(),\n",
       " 'Cell cycle - Homo sapiens (human)': set(),\n",
       " 'Oocyte meiosis - Homo sapiens (human)': set(),\n",
       " 'p53 signaling pathway - Homo sapiens (human)': set(),\n",
       " 'Ubiquitin mediated proteolysis - Homo sapiens (human)': set(),\n",
       " 'Sulfur relay system - Homo sapiens (human)': set(),\n",
       " 'SNARE interactions in vesicular transport - Homo sapiens (human)': set(),\n",
       " 'Autophagy - other - Homo sapiens (human)': set(),\n",
       " 'Mitophagy - animal - Homo sapiens (human)': set(),\n",
       " 'Autophagy - animal - Homo sapiens (human)': set(),\n",
       " 'Protein processing in endoplasmic reticulum - Homo sapiens (human)': set(),\n",
       " 'Lysosome - Homo sapiens (human)': set(),\n",
       " 'Endocytosis - Homo sapiens (human)': set(),\n",
       " 'Phagosome - Homo sapiens (human)': set(),\n",
       " 'Peroxisome - Homo sapiens (human)': set(),\n",
       " 'mTOR signaling pathway - Homo sapiens (human)': set(),\n",
       " 'PI3K-Akt signaling pathway - Homo sapiens (human)': set(),\n",
       " 'AMPK signaling pathway - Homo sapiens (human)': set(),\n",
       " 'Apoptosis - Homo sapiens (human)': set(),\n",
       " 'Longevity regulating pathway - Homo sapiens (human)': set(),\n",
       " 'Longevity regulating pathway - multiple species - Homo sapiens (human)': set(),\n",
       " 'Apoptosis - multiple species - Homo sapiens (human)': set(),\n",
       " 'Ferroptosis - Homo sapiens (human)': set(),\n",
       " 'Necroptosis - Homo sapiens (human)': set(),\n",
       " 'Cellular senescence - Homo sapiens (human)': set(),\n",
       " 'Cardiac muscle contraction - Homo sapiens (human)': set(),\n",
       " 'Adrenergic signaling in cardiomyocytes - Homo sapiens (human)': set(),\n",
       " 'Vascular smooth muscle contraction - Homo sapiens (human)': set(),\n",
       " 'Wnt signaling pathway - Homo sapiens (human)': set(),\n",
       " 'Notch signaling pathway - Homo sapiens (human)': set(),\n",
       " 'Hedgehog signaling pathway - Homo sapiens (human)': set(),\n",
       " 'TGF-beta signaling pathway - Homo sapiens (human)': set(),\n",
       " 'Axon guidance - Homo sapiens (human)': set(),\n",
       " 'VEGF signaling pathway - Homo sapiens (human)': set(),\n",
       " 'Apelin signaling pathway - Homo sapiens (human)': set(),\n",
       " 'Osteoclast differentiation - Homo sapiens (human)': set(),\n",
       " 'Hippo signaling pathway - Homo sapiens (human)': set(),\n",
       " 'Hippo signaling pathway - multiple species - Homo sapiens (human)': set(),\n",
       " 'Focal adhesion - Homo sapiens (human)': set(),\n",
       " 'ECM-receptor interaction - Homo sapiens (human)': set(),\n",
       " 'Cell adhesion molecules (CAMs) - Homo sapiens (human)': set(),\n",
       " 'Adherens junction - Homo sapiens (human)': set(),\n",
       " 'Tight junction - Homo sapiens (human)': set(),\n",
       " 'Gap junction - Homo sapiens (human)': set(),\n",
       " 'Signaling pathways regulating pluripotency of stem cells - Homo sapiens (human)': set(),\n",
       " 'Complement and coagulation cascades - Homo sapiens (human)': set(),\n",
       " 'Platelet activation - Homo sapiens (human)': set(),\n",
       " 'Antigen processing and presentation - Homo sapiens (human)': set(),\n",
       " 'Renin-angiotensin system - Homo sapiens (human)': set(),\n",
       " 'Toll-like receptor signaling pathway - Homo sapiens (human)': set(),\n",
       " 'NOD-like receptor signaling pathway - Homo sapiens (human)': set(),\n",
       " 'RIG-I-like receptor signaling pathway - Homo sapiens (human)': set(),\n",
       " 'Cytosolic DNA-sensing pathway - Homo sapiens (human)': set(),\n",
       " 'C-type lectin receptor signaling pathway - Homo sapiens (human)': set(),\n",
       " 'JAK-STAT signaling pathway - Homo sapiens (human)': set(),\n",
       " 'Hematopoietic cell lineage - Homo sapiens (human)': set(),\n",
       " 'Natural killer cell mediated cytotoxicity - Homo sapiens (human)': set(),\n",
       " 'IL-17 signaling pathway - Homo sapiens (human)': set(),\n",
       " 'Th1 and Th2 cell differentiation - Homo sapiens (human)': set(),\n",
       " 'Th17 cell differentiation - Homo sapiens (human)': set(),\n",
       " 'T cell receptor signaling pathway - Homo sapiens (human)': set(),\n",
       " 'B cell receptor signaling pathway - Homo sapiens (human)': set(),\n",
       " 'Fc epsilon RI signaling pathway - Homo sapiens (human)': set(),\n",
       " 'Fc gamma R-mediated phagocytosis - Homo sapiens (human)': set(),\n",
       " 'TNF signaling pathway - Homo sapiens (human)': set(),\n",
       " 'Leukocyte transendothelial migration - Homo sapiens (human)': set(),\n",
       " 'Intestinal immune network for IgA production - Homo sapiens (human)': set(),\n",
       " 'Circadian rhythm - Homo sapiens (human)': set(),\n",
       " 'Circadian entrainment - Homo sapiens (human)': set(),\n",
       " 'Thermogenesis - Homo sapiens (human)': set(),\n",
       " 'Long-term potentiation - Homo sapiens (human)': set(),\n",
       " 'Synaptic vesicle cycle - Homo sapiens (human)': set(),\n",
       " 'Neurotrophin signaling pathway - Homo sapiens (human)': set(),\n",
       " 'Retrograde endocannabinoid signaling - Homo sapiens (human)': set(),\n",
       " 'Glutamatergic synapse - Homo sapiens (human)': set(),\n",
       " 'Cholinergic synapse - Homo sapiens (human)': set(),\n",
       " 'Serotonergic synapse - Homo sapiens (human)': set(),\n",
       " 'GABAergic synapse - Homo sapiens (human)': set(),\n",
       " 'Dopaminergic synapse - Homo sapiens (human)': set(),\n",
       " 'Long-term depression - Homo sapiens (human)': set(),\n",
       " 'Olfactory transduction - Homo sapiens (human)': set(),\n",
       " 'Taste transduction - Homo sapiens (human)': set(),\n",
       " 'Phototransduction - Homo sapiens (human)': set(),\n",
       " 'Inflammatory mediator regulation of TRP channels - Homo sapiens (human)': set(),\n",
       " 'Regulation of actin cytoskeleton - Homo sapiens (human)': set(),\n",
       " 'Insulin signaling pathway - Homo sapiens (human)': set(),\n",
       " 'Insulin secretion - Homo sapiens (human)': set(),\n",
       " 'GnRH signaling pathway - Homo sapiens (human)': set(),\n",
       " 'Ovarian steroidogenesis - Homo sapiens (human)': set(),\n",
       " 'Progesterone-mediated oocyte maturation - Homo sapiens (human)': set(),\n",
       " 'Estrogen signaling pathway - Homo sapiens (human)': set(),\n",
       " 'Melanogenesis - Homo sapiens (human)': set(),\n",
       " 'Prolactin signaling pathway - Homo sapiens (human)': set(),\n",
       " 'Thyroid hormone synthesis - Homo sapiens (human)': set(),\n",
       " 'Thyroid hormone signaling pathway - Homo sapiens (human)': set(),\n",
       " 'Adipocytokine signaling pathway - Homo sapiens (human)': set(),\n",
       " 'Oxytocin signaling pathway - Homo sapiens (human)': set(),\n",
       " 'Glucagon signaling pathway - Homo sapiens (human)': set(),\n",
       " 'Regulation of lipolysis in adipocytes - Homo sapiens (human)': set(),\n",
       " 'Renin secretion - Homo sapiens (human)': set(),\n",
       " 'Aldosterone synthesis and secretion - Homo sapiens (human)': set(),\n",
       " 'Relaxin signaling pathway - Homo sapiens (human)': set(),\n",
       " 'Cortisol synthesis and secretion - Homo sapiens (human)': set(),\n",
       " 'Parathyroid hormone synthesis, secretion and action - Homo sapiens (human)': set(),\n",
       " 'Type II diabetes mellitus - Homo sapiens (human)': set(),\n",
       " 'Insulin resistance - Homo sapiens (human)': set(),\n",
       " 'Non-alcoholic fatty liver disease (NAFLD) - Homo sapiens (human)': set(),\n",
       " 'AGE-RAGE signaling pathway in diabetic complications - Homo sapiens (human)': set(),\n",
       " 'Cushing syndrome - Homo sapiens (human)': set(),\n",
       " 'Type I diabetes mellitus - Homo sapiens (human)': set(),\n",
       " 'Maturity onset diabetes of the young - Homo sapiens (human)': set(),\n",
       " 'Aldosterone-regulated sodium reabsorption - Homo sapiens (human)': set(),\n",
       " 'Endocrine and other factor-regulated calcium reabsorption - Homo sapiens (human)': set(),\n",
       " 'Vasopressin-regulated water reabsorption - Homo sapiens (human)': set(),\n",
       " 'Proximal tubule bicarbonate reclamation - Homo sapiens (human)': set(),\n",
       " 'Collecting duct acid secretion - Homo sapiens (human)': set(),\n",
       " 'Salivary secretion - Homo sapiens (human)': set(),\n",
       " 'Gastric acid secretion - Homo sapiens (human)': set(),\n",
       " 'Pancreatic secretion - Homo sapiens (human)': set(),\n",
       " 'Carbohydrate digestion and absorption - Homo sapiens (human)': set(),\n",
       " 'Protein digestion and absorption - Homo sapiens (human)': set(),\n",
       " 'Fat digestion and absorption - Homo sapiens (human)': set(),\n",
       " 'Bile secretion - Homo sapiens (human)': set(),\n",
       " 'Vitamin digestion and absorption - Homo sapiens (human)': set(),\n",
       " 'Mineral absorption - Homo sapiens (human)': set(),\n",
       " 'Cholesterol metabolism - Homo sapiens (human)': set(),\n",
       " 'Alzheimer disease - Homo sapiens (human)': set(),\n",
       " 'Parkinson disease - Homo sapiens (human)': set(),\n",
       " 'Amyotrophic lateral sclerosis (ALS) - Homo sapiens (human)': set(),\n",
       " 'Huntington disease - Homo sapiens (human)': set(),\n",
       " 'Prion diseases - Homo sapiens (human)': set(),\n",
       " 'Cocaine addiction - Homo sapiens (human)': set(),\n",
       " 'Amphetamine addiction - Homo sapiens (human)': set(),\n",
       " 'Morphine addiction - Homo sapiens (human)': set(),\n",
       " 'Nicotine addiction - Homo sapiens (human)': set(),\n",
       " 'Alcoholism - Homo sapiens (human)': set(),\n",
       " 'Bacterial invasion of epithelial cells - Homo sapiens (human)': set(),\n",
       " 'Vibrio cholerae infection - Homo sapiens (human)': set(),\n",
       " 'Epithelial cell signaling in Helicobacter pylori infection - Homo sapiens (human)': set(),\n",
       " 'Pathogenic Escherichia coli infection - Homo sapiens (human)': set(),\n",
       " 'Shigellosis - Homo sapiens (human)': set(),\n",
       " 'Salmonella infection - Homo sapiens (human)': set(),\n",
       " 'Pertussis - Homo sapiens (human)': set(),\n",
       " 'Legionellosis - Homo sapiens (human)': set(),\n",
       " 'Leishmaniasis - Homo sapiens (human)': set(),\n",
       " 'Chagas disease (American trypanosomiasis) - Homo sapiens (human)': set(),\n",
       " 'African trypanosomiasis - Homo sapiens (human)': set(),\n",
       " 'Malaria - Homo sapiens (human)': set(),\n",
       " 'Toxoplasmosis - Homo sapiens (human)': set(),\n",
       " 'Amoebiasis - Homo sapiens (human)': set(),\n",
       " 'Staphylococcus aureus infection - Homo sapiens (human)': set(),\n",
       " 'Tuberculosis - Homo sapiens (human)': set(),\n",
       " 'Hepatitis C - Homo sapiens (human)': set(),\n",
       " 'Hepatitis B - Homo sapiens (human)': set(),\n",
       " 'Measles - Homo sapiens (human)': set(),\n",
       " 'Human cytomegalovirus infection - Homo sapiens (human)': set(),\n",
       " 'Influenza A - Homo sapiens (human)': set(),\n",
       " 'Human papillomavirus infection - Homo sapiens (human)': set(),\n",
       " 'Human T-cell leukemia virus 1 infection - Homo sapiens (human)': set(),\n",
       " 'Kaposi sarcoma-associated herpesvirus infection - Homo sapiens (human)': set(),\n",
       " 'Herpes simplex infection - Homo sapiens (human)': set(),\n",
       " 'Epstein-Barr virus infection - Homo sapiens (human)': set(),\n",
       " 'Human immunodeficiency virus 1 infection - Homo sapiens (human)': set(),\n",
       " 'Pathways in cancer - Homo sapiens (human)': set(),\n",
       " 'Transcriptional misregulation in cancer - Homo sapiens (human)': set(),\n",
       " 'Viral carcinogenesis - Homo sapiens (human)': set(),\n",
       " 'Chemical carcinogenesis - Homo sapiens (human)': set(),\n",
       " 'Proteoglycans in cancer - Homo sapiens (human)': set(),\n",
       " 'MicroRNAs in cancer - Homo sapiens (human)': set(),\n",
       " 'Colorectal cancer - Homo sapiens (human)': set(),\n",
       " 'Renal cell carcinoma - Homo sapiens (human)': set(),\n",
       " 'Pancreatic cancer - Homo sapiens (human)': set(),\n",
       " 'Endometrial cancer - Homo sapiens (human)': set(),\n",
       " 'Glioma - Homo sapiens (human)': set(),\n",
       " 'Prostate cancer - Homo sapiens (human)': set(),\n",
       " 'Thyroid cancer - Homo sapiens (human)': set(),\n",
       " 'Basal cell carcinoma - Homo sapiens (human)': set(),\n",
       " 'Melanoma - Homo sapiens (human)': set(),\n",
       " 'Bladder cancer - Homo sapiens (human)': set(),\n",
       " 'Chronic myeloid leukemia - Homo sapiens (human)': set(),\n",
       " 'Acute myeloid leukemia - Homo sapiens (human)': set(),\n",
       " 'Small cell lung cancer - Homo sapiens (human)': set(),\n",
       " 'Non-small cell lung cancer - Homo sapiens (human)': set(),\n",
       " 'Breast cancer - Homo sapiens (human)': set(),\n",
       " 'Hepatocellular carcinoma - Homo sapiens (human)': set(),\n",
       " 'Gastric cancer - Homo sapiens (human)': set(),\n",
       " 'Central carbon metabolism in cancer - Homo sapiens (human)': set(),\n",
       " 'Choline metabolism in cancer - Homo sapiens (human)': set(),\n",
       " 'Asthma - Homo sapiens (human)': set(),\n",
       " 'Autoimmune thyroid disease - Homo sapiens (human)': set(),\n",
       " 'Inflammatory bowel disease (IBD) - Homo sapiens (human)': set(),\n",
       " 'Systemic lupus erythematosus - Homo sapiens (human)': set(),\n",
       " 'Rheumatoid arthritis - Homo sapiens (human)': set(),\n",
       " 'Allograft rejection - Homo sapiens (human)': set(),\n",
       " 'Graft-versus-host disease - Homo sapiens (human)': set(),\n",
       " 'Primary immunodeficiency - Homo sapiens (human)': set(),\n",
       " 'Hypertrophic cardiomyopathy (HCM) - Homo sapiens (human)': set(),\n",
       " 'Arrhythmogenic right ventricular cardiomyopathy (ARVC) - Homo sapiens (human)': set(),\n",
       " 'Dilated cardiomyopathy (DCM) - Homo sapiens (human)': set(),\n",
       " 'Viral myocarditis - Homo sapiens (human)': set(),\n",
       " 'Fluid shear stress and atherosclerosis - Homo sapiens (human)': set()}"
      ]
     },
     "execution_count": 11,
     "metadata": {},
     "output_type": "execute_result"
    }
   ],
   "source": [
    "kegg_genes_set"
   ]
  },
  {
   "cell_type": "code",
   "execution_count": 5,
   "metadata": {},
   "outputs": [
    {
     "data": {
      "text/plain": [
       "[set()]"
      ]
     },
     "execution_count": 5,
     "metadata": {},
     "output_type": "execute_result"
    }
   ],
   "source": [
    "[kegg_genes_set['Notch signaling pathway - Homo sapiens (human)']]\n"
   ]
  },
  {
   "cell_type": "markdown",
   "metadata": {},
   "source": [
    "### Get gene sets for each KEGG pathway BEL graph"
   ]
  },
  {
   "cell_type": "code",
   "execution_count": 6,
   "metadata": {},
   "outputs": [],
   "source": [
    "# Get list of BEL graph pickles\n",
    "pickles = get_files_in_folder(KEGG_BEL)"
   ]
  },
  {
   "cell_type": "code",
   "execution_count": 7,
   "metadata": {},
   "outputs": [],
   "source": [
    "bel_genes_set = get_kegg_genes_from_pickles(KEGG_BEL, pickles, kegg_manager)"
   ]
  },
  {
   "cell_type": "markdown",
   "metadata": {},
   "source": [
    "### For each pathway in the KEGG PATHWAY database, calculate the Jaccard index for gene sets from the database and from BEL graphs "
   ]
  },
  {
   "cell_type": "code",
   "execution_count": 8,
   "metadata": {},
   "outputs": [
    {
     "name": "stdout",
     "output_type": "stream",
     "text": [
      "Jaccard index for gene sets in database vs gene sets in BEL:\n",
      "0 of 330 gene sets in the database and BEL graphs have a similarity of 100%.\n",
      "330 of 330 gene sets in the database and BEL graphs have a similarity of 0%.\n"
     ]
    }
   ],
   "source": [
    "jaccard_similarities = jaccard_similarity(kegg_genes_set, bel_genes_set)"
   ]
  },
  {
   "cell_type": "markdown",
   "metadata": {},
   "source": [
    "### Visualize Jaccard index distribution"
   ]
  },
  {
   "cell_type": "code",
   "execution_count": 9,
   "metadata": {},
   "outputs": [
    {
     "name": "stderr",
     "output_type": "stream",
     "text": [
      "/home/sarah/anaconda3/lib/python3.6/site-packages/matplotlib/axes/_axes.py:6499: MatplotlibDeprecationWarning: \n",
      "The 'normed' kwarg was deprecated in Matplotlib 2.1 and will be removed in 3.1. Use 'density' instead.\n",
      "  alternative=\"'density'\", removal=\"3.1\")\n",
      "/home/sarah/anaconda3/lib/python3.6/site-packages/statsmodels/nonparametric/kde.py:488: RuntimeWarning: invalid value encountered in true_divide\n",
      "  binned = fast_linbin(X, a, b, gridsize) / (delta * nobs)\n",
      "/home/sarah/anaconda3/lib/python3.6/site-packages/statsmodels/nonparametric/kdetools.py:34: RuntimeWarning: invalid value encountered in double_scalars\n",
      "  FAC1 = 2*(np.pi*bw/RANGE)**2\n"
     ]
    },
    {
     "data": {
      "text/plain": [
       "<matplotlib.axes._subplots.AxesSubplot at 0x7f724c36a160>"
      ]
     },
     "execution_count": 9,
     "metadata": {},
     "output_type": "execute_result"
    },
    {
     "data": {
      "image/png": "[encoded data removed]",
      "text/plain": [
       "<Figure size 720x504 with 1 Axes>"
      ]
     },
     "metadata": {},
     "output_type": "display_data"
    }
   ],
   "source": [
    "plt.figure(figsize=(10,7))\n",
    "plt.title('Jaccard Index Distribution for Gene Sets in pathways from KEGG PATHWAYS and BEL', fontsize=12)\n",
    "plt.ylabel('Frequency', fontsize=12)\n",
    "plt.xlabel('Jaccard Index', fontsize=12)\n",
    "\n",
    "sns.distplot(jaccard_similarities, axlabel='Jaccard Index', rug=True, bins=20, color='#5cb85c')\n"
   ]
  },
  {
   "cell_type": "markdown",
   "metadata": {},
   "source": [
    "For all pathways in KEGG PATHWAYS, we plot the distribution of Jaccard indices as a measure of similarity between gene sets from the database and gene sets in the subsequently parsed BEL graphs.\n",
    " \n",
    "A near perfect mapping of gene sets from KEGG PATHWAYS to BEL can be seen in the distribution; almost all gene sets in KEGG PATHWAYS are successfully parsed and converted into BEL entities. "
   ]
  }
 ],
 "metadata": {
  "kernelspec": {
   "display_name": "Python 3",
   "language": "python",
   "name": "python3"
  },
  "language_info": {
   "codemirror_mode": {
    "name": "ipython",
    "version": 3
   },
   "file_extension": ".py",
   "mimetype": "text/x-python",
   "name": "python",
   "nbconvert_exporter": "python",
   "pygments_lexer": "ipython3",
   "version": "3.6.5"
  }
 },
 "nbformat": 4,
 "nbformat_minor": 2
}
