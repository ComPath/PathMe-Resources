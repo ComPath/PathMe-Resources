{
 "cells": [
  {
   "cell_type": "markdown",
   "metadata": {},
   "source": [
    "# KEGG vs BEL gene sets comparison"
   ]
  },
  {
   "cell_type": "markdown",
   "metadata": {},
   "source": [
    "### This notebook calculates the Jaccard index for gene sets in the KEGG PATHWAY database and gene sets in BEL graphs for each pathway in the KEGG PATHWAY database"
   ]
  },
  {
   "cell_type": "code",
   "execution_count": 17,
   "metadata": {},
   "outputs": [],
   "source": [
    "import os\n",
    "import itertools as itt\n",
    "from collections import defaultdict\n",
    "import seaborn as sns\n",
    "\n",
    "from pybel import BELGraph, from_pickle\n",
    "\n",
    "from pathme.constants import KEGG_BEL\n",
    "from pathme.utils import get_files_in_folder\n",
    "\n",
    "from bio2bel_kegg.manager import Manager"
   ]
  },
  {
   "cell_type": "code",
   "execution_count": 2,
   "metadata": {},
   "outputs": [],
   "source": [
    "# Initiate KEGG Manager\n",
    "kegg_manager = Manager()"
   ]
  },
  {
   "cell_type": "markdown",
   "metadata": {},
   "source": [
    "### Get gene sets for each KEGG pathway in the KEGG PATHWAY database."
   ]
  },
  {
   "cell_type": "code",
   "execution_count": 3,
   "metadata": {},
   "outputs": [],
   "source": [
    "kegg_genes_set = kegg_manager.export_gene_sets()"
   ]
  },
  {
   "cell_type": "markdown",
   "metadata": {},
   "source": [
    "### Get gene sets for each KEGG pathway BEL graph"
   ]
  },
  {
   "cell_type": "code",
   "execution_count": 4,
   "metadata": {},
   "outputs": [],
   "source": [
    "# Get list of BEL graph pickles\n",
    "pickles = get_files_in_folder(KEGG_BEL)"
   ]
  },
  {
   "cell_type": "code",
   "execution_count": 5,
   "metadata": {},
   "outputs": [],
   "source": [
    "def get_genes_from_pickles(pickles):\n",
    "    \"\"\"Get BEL graph gene set for all KEGG pathways.\n",
    "\n",
    "    :param list pickles: list of BEL graph pickles\n",
    "    :return: BEL graph gene sets for each KEGG pathway \n",
    "    :rtype: dict[str,set]\n",
    "    \"\"\"\n",
    "    pathway_genes_dict = {}\n",
    "    \n",
    "    for file_name in pickles:\n",
    "        \n",
    "        # Flattened graphs considered for gene sets \n",
    "        if file_name.endswith('_flatten.pickle'):\n",
    "            graph = from_pickle(os.path.join(KEGG_BEL,file_name))\n",
    "            \n",
    "            # Get gene set for pathway \n",
    "            gene_set = get_genes_in_graph(graph) \n",
    "            file_name = file_name.strip('_flatten.pickle')\n",
    "            file_name = 'path:' + file_name\n",
    "            file_name = kegg_manager.get_pathway_by_id(file_name)\n",
    "\n",
    "            pathway_genes_dict[str(file_name)] = gene_set\n",
    "                \n",
    "    return pathway_genes_dict\n"
   ]
  },
  {
   "cell_type": "code",
   "execution_count": 6,
   "metadata": {},
   "outputs": [],
   "source": [
    "def get_genes_in_graph(graph):\n",
    "    \"\"\"Get BEL graph gene set for a KEGG pathway.\n",
    "\n",
    "    :param pybel.BELGraph graph: BEL Graph\n",
    "    :return: BEL graph gene set  \n",
    "    :rtype: set\n",
    "    \"\"\"\n",
    "    gene_set = set()\n",
    "    \n",
    "    for node, data in graph.nodes(data=True):\n",
    "        if node.function in {'Protein', 'RNA'} and node.namespace == 'HGNC':\n",
    "            gene_set.add(node.name)\n",
    "            \n",
    "    return gene_set"
   ]
  },
  {
   "cell_type": "code",
   "execution_count": 7,
   "metadata": {},
   "outputs": [],
   "source": [
    "bel_genes_set = get_genes_from_pickles(pickles)"
   ]
  },
  {
   "cell_type": "markdown",
   "metadata": {},
   "source": [
    "### For each pathway in the KEGG PATHWAY database, calculate the Jaccard index for gene sets from the database and from BEL graphs "
   ]
  },
  {
   "cell_type": "code",
   "execution_count": 12,
   "metadata": {},
   "outputs": [],
   "source": [
    "def jaccard_similarity(kegg_genes_set, bel_genes_set):\n",
    "    \"\"\"Get Jaccard similarity for gene sets in KEGG PATHWAYS database and BEL graphs.\n",
    "\n",
    "    :param dict kegg_genes_set: gene sets for each pathway in KEGG PATHWAYS database\n",
    "    :param dict bel_genes_set: gene sets for each BEL graph\n",
    "    :return: similarity index \n",
    "    :rtype: int\n",
    "    \"\"\"    \n",
    "    jaccard_similarities = []\n",
    "    count = 0\n",
    "    \n",
    "    for (kegg_key, kegg_value), (bel_key, bel_value) in itt.product(kegg_genes_set.items(),bel_genes_set.items()):\n",
    "        \n",
    "        if kegg_key != bel_key:\n",
    "            continue\n",
    "            \n",
    "        intersection = len(set.intersection(kegg_value, bel_value))\n",
    "        union = len(kegg_value.union(bel_value))\n",
    "        jaccard_index = intersection/union\n",
    "        jaccard_similarities.append(jaccard_index)\n",
    "        if jaccard_index == 1.0:\n",
    "            count += 1\n",
    "        else:\n",
    "            print(f'Jaccard index = {jaccard_index:.3f} for {kegg_key}')\n",
    "            \n",
    "    print('The remaining {} gene sets in the KEGG PATHWAYS database and BEL graphs have a similarity of 100%.'.format(count))\n",
    "    return jaccard_similarities"
   ]
  },
  {
   "cell_type": "code",
   "execution_count": 14,
   "metadata": {},
   "outputs": [
    {
     "name": "stdout",
     "output_type": "stream",
     "text": [
      "Jaccard index = 0.971 for Pentose and glucuronate interconversions - Homo sapiens (human)\n",
      "Jaccard index = 0.963 for Ascorbate and aldarate metabolism - Homo sapiens (human)\n",
      "Jaccard index = 0.966 for Steroid hormone biosynthesis - Homo sapiens (human)\n",
      "Jaccard index = 0.983 for Purine metabolism - Homo sapiens (human)\n",
      "Jaccard index = 0.980 for Pyrimidine metabolism - Homo sapiens (human)\n",
      "Jaccard index = 0.960 for Arginine and proline metabolism - Homo sapiens (human)\n",
      "Jaccard index = 0.944 for Starch and sucrose metabolism - Homo sapiens (human)\n",
      "Jaccard index = 0.968 for Mucin type O-glycan biosynthesis - Homo sapiens (human)\n",
      "Jaccard index = 0.990 for Glycerophospholipid metabolism - Homo sapiens (human)\n",
      "Jaccard index = 0.979 for Ether lipid metabolism - Homo sapiens (human)\n",
      "Jaccard index = 0.984 for Arachidonic acid metabolism - Homo sapiens (human)\n",
      "Jaccard index = 0.966 for Linoleic acid metabolism - Homo sapiens (human)\n",
      "Jaccard index = 0.960 for alpha-Linolenic acid metabolism - Homo sapiens (human)\n",
      "Jaccard index = 0.938 for Thiamine metabolism - Homo sapiens (human)\n",
      "Jaccard index = 0.967 for Nicotinate and nicotinamide metabolism - Homo sapiens (human)\n",
      "Jaccard index = 0.970 for Retinol metabolism - Homo sapiens (human)\n",
      "Jaccard index = 0.976 for Porphyrin and chlorophyll metabolism - Homo sapiens (human)\n",
      "Jaccard index = 0.973 for Metabolism of xenobiotics by cytochrome P450 - Homo sapiens (human)\n",
      "Jaccard index = 0.972 for Drug metabolism - cytochrome P450 - Homo sapiens (human)\n",
      "Jaccard index = 0.975 for Drug metabolism - other enzymes - Homo sapiens (human)\n",
      "Jaccard index = 0.992 for Metabolic pathways - Homo sapiens (human)\n",
      "Jaccard index = 0.990 for Endocrine resistance - Homo sapiens (human)\n",
      "Jaccard index = 0.980 for Ribosome biogenesis in eukaryotes - Homo sapiens (human)\n",
      "Jaccard index = 0.982 for RNA transport - Homo sapiens (human)\n",
      "Jaccard index = 0.978 for mRNA surveillance pathway - Homo sapiens (human)\n",
      "Jaccard index = 0.987 for RNA degradation - Homo sapiens (human)\n",
      "Jaccard index = 0.978 for Basal transcription factors - Homo sapiens (human)\n",
      "Jaccard index = 0.993 for Spliceosome - Homo sapiens (human)\n",
      "Jaccard index = 0.979 for Nucleotide excision repair - Homo sapiens (human)\n",
      "Jaccard index = 0.963 for Fanconi anemia pathway - Homo sapiens (human)\n",
      "Jaccard index = 0.997 for MAPK signaling pathway - Homo sapiens (human)\n",
      "Jaccard index = 0.996 for Ras signaling pathway - Homo sapiens (human)\n",
      "Jaccard index = 0.995 for Calcium signaling pathway - Homo sapiens (human)\n",
      "Jaccard index = 0.993 for Cytokine-cytokine receptor interaction - Homo sapiens (human)\n",
      "Jaccard index = 0.989 for Chemokine signaling pathway - Homo sapiens (human)\n",
      "Jaccard index = 0.979 for NF-kappa B signaling pathway - Homo sapiens (human)\n",
      "Jaccard index = 0.986 for Phospholipase D signaling pathway - Homo sapiens (human)\n",
      "Jaccard index = 0.996 for Neuroactive ligand-receptor interaction - Homo sapiens (human)\n",
      "Jaccard index = 0.996 for Endocytosis - Homo sapiens (human)\n",
      "Jaccard index = 0.993 for Phagosome - Homo sapiens (human)\n",
      "Jaccard index = 0.993 for mTOR signaling pathway - Homo sapiens (human)\n",
      "Jaccard index = 0.997 for PI3K-Akt signaling pathway - Homo sapiens (human)\n",
      "Jaccard index = 0.975 for Necroptosis - Homo sapiens (human)\n",
      "Jaccard index = 0.992 for Vascular smooth muscle contraction - Homo sapiens (human)\n",
      "Jaccard index = 0.988 for TGF-beta signaling pathway - Homo sapiens (human)\n",
      "Jaccard index = 0.983 for VEGF signaling pathway - Homo sapiens (human)\n",
      "Jaccard index = 0.992 for Osteoclast differentiation - Homo sapiens (human)\n",
      "Jaccard index = 0.993 for Cell adhesion molecules (CAMs) - Homo sapiens (human)\n",
      "Jaccard index = 0.992 for Platelet activation - Homo sapiens (human)\n",
      "Jaccard index = 0.981 for Toll-like receptor signaling pathway - Homo sapiens (human)\n",
      "Jaccard index = 0.984 for Cytosolic DNA-sensing pathway - Homo sapiens (human)\n",
      "Jaccard index = 0.990 for Hematopoietic cell lineage - Homo sapiens (human)\n",
      "Jaccard index = 0.992 for Natural killer cell mediated cytotoxicity - Homo sapiens (human)\n",
      "Jaccard index = 0.989 for IL-17 signaling pathway - Homo sapiens (human)\n",
      "Jaccard index = 0.986 for B cell receptor signaling pathway - Homo sapiens (human)\n",
      "Jaccard index = 0.971 for Fc epsilon RI signaling pathway - Homo sapiens (human)\n",
      "Jaccard index = 0.989 for Fc gamma R-mediated phagocytosis - Homo sapiens (human)\n",
      "Jaccard index = 0.979 for Intestinal immune network for IgA production - Homo sapiens (human)\n",
      "Jaccard index = 0.991 for Glutamatergic synapse - Homo sapiens (human)\n",
      "Jaccard index = 0.982 for Serotonergic synapse - Homo sapiens (human)\n",
      "Jaccard index = 0.983 for Long-term depression - Homo sapiens (human)\n",
      "Jaccard index = 0.996 for Olfactory transduction - Homo sapiens (human)\n",
      "Jaccard index = 0.990 for Inflammatory mediator regulation of TRP channels - Homo sapiens (human)\n",
      "Jaccard index = 0.989 for GnRH signaling pathway - Homo sapiens (human)\n",
      "Jaccard index = 0.980 for Ovarian steroidogenesis - Homo sapiens (human)\n",
      "Jaccard index = 0.993 for Estrogen signaling pathway - Homo sapiens (human)\n",
      "Jaccard index = 0.993 for Oxytocin signaling pathway - Homo sapiens (human)\n",
      "Jaccard index = 0.967 for Salivary secretion - Homo sapiens (human)\n",
      "Jaccard index = 0.955 for Carbohydrate digestion and absorption - Homo sapiens (human)\n",
      "Jaccard index = 0.928 for Alcoholism - Homo sapiens (human)\n",
      "Jaccard index = 0.977 for Salmonella infection - Homo sapiens (human)\n",
      "Jaccard index = 0.986 for Leishmaniasis - Homo sapiens (human)\n",
      "Jaccard index = 0.990 for Chagas disease (American trypanosomiasis) - Homo sapiens (human)\n",
      "Jaccard index = 0.971 for African trypanosomiasis - Homo sapiens (human)\n",
      "Jaccard index = 0.990 for Amoebiasis - Homo sapiens (human)\n",
      "Jaccard index = 0.982 for Staphylococcus aureus infection - Homo sapiens (human)\n",
      "Jaccard index = 0.994 for Tuberculosis - Homo sapiens (human)\n",
      "Jaccard index = 0.992 for Measles - Homo sapiens (human)\n",
      "Jaccard index = 0.991 for Human cytomegalovirus infection - Homo sapiens (human)\n",
      "Jaccard index = 0.994 for Influenza A - Homo sapiens (human)\n",
      "Jaccard index = 0.995 for Herpes simplex infection - Homo sapiens (human)\n",
      "Jaccard index = 0.995 for Epstein-Barr virus infection - Homo sapiens (human)\n",
      "Jaccard index = 0.930 for Transcriptional misregulation in cancer - Homo sapiens (human)\n",
      "Jaccard index = 0.995 for Viral carcinogenesis - Homo sapiens (human)\n",
      "Jaccard index = 0.976 for Chemical carcinogenesis - Homo sapiens (human)\n",
      "Jaccard index = 0.990 for Choline metabolism in cancer - Homo sapiens (human)\n",
      "Jaccard index = 0.968 for Asthma - Homo sapiens (human)\n",
      "Jaccard index = 0.981 for Autoimmune thyroid disease - Homo sapiens (human)\n",
      "Jaccard index = 0.895 for Systemic lupus erythematosus - Homo sapiens (human)\n",
      "Jaccard index = 0.978 for Rheumatoid arthritis - Homo sapiens (human)\n",
      "Jaccard index = 0.974 for Allograft rejection - Homo sapiens (human)\n",
      "Jaccard index = 0.973 for Primary immunodeficiency - Homo sapiens (human)\n",
      "Jaccard index = 0.989 for Dilated cardiomyopathy (DCM) - Homo sapiens (human)\n",
      "Jaccard index = 0.983 for Viral myocarditis - Homo sapiens (human)\n",
      "The remaining 236 gene sets in the KEGG PATHWAYS database and BEL graphs have a similarity of 100%.\n"
     ]
    }
   ],
   "source": [
    "jaccard_similarities = jaccard_similarity(kegg_genes_set, bel_genes_set)"
   ]
  },
  {
   "cell_type": "markdown",
   "metadata": {},
   "source": [
    "#### Visualize Jaccard index distribution"
   ]
  },
  {
   "cell_type": "code",
   "execution_count": 26,
   "metadata": {},
   "outputs": [
    {
     "name": "stderr",
     "output_type": "stream",
     "text": [
      "/home/sarah/anaconda3/lib/python3.6/site-packages/matplotlib/axes/_axes.py:6462: UserWarning: The 'normed' kwarg is deprecated, and has been replaced by the 'density' kwarg.\n",
      "  warnings.warn(\"The 'normed' kwarg is deprecated, and has been \"\n"
     ]
    },
    {
     "data": {
      "text/plain": [
       "<matplotlib.axes._subplots.AxesSubplot at 0x7f221491dc50>"
      ]
     },
     "execution_count": 26,
     "metadata": {},
     "output_type": "execute_result"
    },
    {
     "data": {
      "image/png": "[encoded data removed]",
      "text/plain": [
       "<Figure size 432x288 with 1 Axes>"
      ]
     },
     "metadata": {},
     "output_type": "display_data"
    }
   ],
   "source": [
    "sns.distplot(jaccard_similarities, axlabel='Jaccard Similarity'', rug=True, bins=20, color='#5cb85c')\n"
   ]
  },
  {
   "cell_type": "code",
   "execution_count": null,
   "metadata": {},
   "outputs": [],
   "source": []
  }
 ],
 "metadata": {
  "kernelspec": {
   "display_name": "Python 3",
   "language": "python",
   "name": "python3"
  },
  "language_info": {
   "codemirror_mode": {
    "name": "ipython",
    "version": 3
   },
   "file_extension": ".py",
   "mimetype": "text/x-python",
   "name": "python",
   "nbconvert_exporter": "python",
   "pygments_lexer": "ipython3",
   "version": "3.6.5"
  }
 },
 "nbformat": 4,
 "nbformat_minor": 2
}
