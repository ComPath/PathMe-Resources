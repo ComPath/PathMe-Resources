{
 "cells": [
  {
   "cell_type": "markdown",
   "metadata": {},
   "source": [
    "# Global Entity Comparison across Pathway Databases\n",
    "\n",
    "This notebook evaluates the degree of consensus for different modalities across KEGG [1], Reactome [2], and WikiPathways [3]. The notebook was generated with data parsed on the 5th of March, 2019\n",
    "\n",
    "Author: [Daniel Domingo-Fernández](https://github.com/ddomingof)\n",
    "\n",
    "1. Kanehisa, M., *et al.* (2016). `KEGG: new perspectives on genomes, pathways, diseases and drugs.` *Nucleic acids research*, 45(D1), D353-D361.\n",
    "\n",
    "2. Fabregat, A., *et al.* (2017). ` The reactome pathway knowledgebase.` *Nucleic acids research*, 46(D1), D649-D655.\n",
    "\n",
    "3. Slenter, D. N., *et al.* (2017). `WikiPathways: a multifaceted pathway database bridging metabolomics to other omics research.` *Nucleic acids research*, 46(D1), D661-D667.\n",
    "\n",
    "4. Domingo-Fernández, D., *et al.* (2019). `ComPath: An ecosystem for exploring, analyzing, and curating mappings across pathway databases.` *npj Syst Biol Appl.*, 5(1):3.\n",
    "\n",
    "5. Stobbe, D. M., *et al.* (2011). `Critical assessment of human metabolic pathway databases: a stepping stone for future integration.` *BMC systems biology*, 5.1: 165."
   ]
  },
  {
   "cell_type": "code",
   "execution_count": 1,
   "metadata": {},
   "outputs": [],
   "source": [
    "import os\n",
    "import sys\n",
    "import time\n",
    "\n",
    "import matplotlib.pyplot as plt\n",
    "import pandas as pd \n",
    "import numpy as np\n",
    "\n",
    "import pybel\n",
    "import pybel_tools\n",
    "\n",
    "from pybel.dsl import Abundance, BiologicalProcess, CentralDogma, ListAbundance, Reaction\n",
    "\n",
    "from pybel.struct.filters.node_predicate_builders import function_inclusion_filter_builder\n",
    "\n",
    "from pathme.constants import REACTOME_BEL, KEGG_BEL, WIKIPATHWAYS_BEL"
   ]
  },
  {
   "cell_type": "markdown",
   "metadata": {},
   "source": [
    "##### Notebook and dependencies metainformation"
   ]
  },
  {
   "cell_type": "code",
   "execution_count": 2,
   "metadata": {},
   "outputs": [
    {
     "data": {
      "text/plain": [
       "'3.6.5 (default, Apr 20 2018, 08:54:42) \\n[GCC 4.8.5 20150623 (Red Hat 4.8.5-16)]'"
      ]
     },
     "execution_count": 2,
     "metadata": {},
     "output_type": "execute_result"
    }
   ],
   "source": [
    "sys.version"
   ]
  },
  {
   "cell_type": "code",
   "execution_count": 3,
   "metadata": {},
   "outputs": [
    {
     "data": {
      "text/plain": [
       "'Wed Mar  6 12:30:52 2019'"
      ]
     },
     "execution_count": 3,
     "metadata": {},
     "output_type": "execute_result"
    }
   ],
   "source": [
    "time.asctime()"
   ]
  },
  {
   "cell_type": "code",
   "execution_count": 4,
   "metadata": {},
   "outputs": [],
   "source": [
    "%matplotlib inline"
   ]
  },
  {
   "cell_type": "code",
   "execution_count": 5,
   "metadata": {},
   "outputs": [
    {
     "data": {
      "text/plain": [
       "'0.13.1'"
      ]
     },
     "execution_count": 5,
     "metadata": {},
     "output_type": "execute_result"
    }
   ],
   "source": [
    "pybel.get_version()"
   ]
  },
  {
   "cell_type": "code",
   "execution_count": 6,
   "metadata": {},
   "outputs": [
    {
     "data": {
      "text/plain": [
       "'0.7.1-dev'"
      ]
     },
     "execution_count": 6,
     "metadata": {},
     "output_type": "execute_result"
    }
   ],
   "source": [
    "pybel_tools.get_version()"
   ]
  },
  {
   "cell_type": "markdown",
   "metadata": {},
   "source": [
    "##### Load merge database networks (_Network pickles should be placed in the default directory..._)\n",
    "\n",
    "If you have not parsed the databases with PathMe, you can simply download the files here and move them to \n",
    "your local directory under: \n",
    "\n",
    "__./.pathme/{database}/bel (e.g., /home/daniel/.pathme/kegg/bel) __\n",
    "\n",
    "Download link for KEGG pickles\n",
    "https://drive.google.com/uc?authuser=0&id=1a_6lck28Df9v2E-Dt45-ZARsdGVs-V9s&export=download\n",
    "\n",
    "Download link for Reactome pickles\n",
    "https://owncloud.scai.fraunhofer.de/index.php/s/WH7CybmsxN4eXMH/download\n",
    "\n",
    "Download link for WikiPathways pickles\n",
    "https://drive.google.com/uc?authuser=0&id=1adwTE9cUpMb0lFiN0gbrGLaWfExtFdux&export=download "
   ]
  },
  {
   "cell_type": "code",
   "execution_count": 7,
   "metadata": {},
   "outputs": [],
   "source": [
    "# Modify Python Typing arguments if you are using Python < 3.6\n",
    "# PyBEL union method cannot be used because empty nodes are discarded\n",
    "def get_nodes_in_database(folder):\n",
    "    \"\"\"Merge all the python pickles in a given folder and returns the corresponding BELGraph.\"\"\"  \n",
    "    database_networks = [\n",
    "        pybel.from_pickle(os.path.join(folder, path))\n",
    "        for path in os.listdir(folder)\n",
    "        if path.endswith('.pickle')\n",
    "    ]\n",
    "    \n",
    "    return {\n",
    "        node\n",
    "        for network in database_networks\n",
    "        for node in network.nodes()\n",
    "    }"
   ]
  },
  {
   "cell_type": "code",
   "execution_count": 8,
   "metadata": {
    "scrolled": false
   },
   "outputs": [],
   "source": [
    "kegg_nodes = get_nodes_in_database(KEGG_BEL)\n",
    "reactome_nodes = get_nodes_in_database(REACTOME_BEL)\n",
    "wikipathways_nodes = get_nodes_in_database(WIKIPATHWAYS_BEL)"
   ]
  },
  {
   "cell_type": "markdown",
   "metadata": {},
   "source": [
    "#### Manual Curation\n",
    "Since some of the entities were not categorized with their corresponding BEL function (e.g., abundance, gene) due to abnormalities in harmonization, we have manually curated them and assigned them to the right modality.\n",
    "\n",
    "This data can be used by the original database to correct the node label in their corresponding pathway files."
   ]
  },
  {
   "cell_type": "code",
   "execution_count": 9,
   "metadata": {},
   "outputs": [],
   "source": [
    "# Entities in WikiPathways that required manual curation\n",
    "WIKIPATHWAYS_BIOL_PROCESS = {'lipid biosynthesis', 'hsc survival', 'glycolysis & gluconeogenesis', 'triacylglyceride  synthesis', 'wnt canonical signaling', 'regulation of actin skeleton', 'fatty acid metabolism', 'mrna processing major splicing pathway', 'senescence', 'monocyte differentiation', 'pentose phosphate pathway', 'ethanolamine  phosphate', 'hsc differentiation', 'actin, stress fibers and adhesion', 'regulation of actin cytoskeleton', 's-phase progression', 'g1-s transition', 'toll-like receptor signaling pathway', 'regulation of  actin cytoskeleton', 'proteasome degradation', 'apoptosis', 'bmp pathway', 'ampk activation', 'g1/s checkpoint arrest', 'mapk signaling pathway', 'chromatin remodeling and  epigenetic modifications', 'wnt signaling pathway', 'ros production', 'erbb signaling pathway', 'shh pathway', 'inflammation', 'dna replication', 'mrna translation', 'oxidative stress', 'cell cycle checkpoint activation', 'gi/go pathway', 'wnt pathway', 'g1/s transition of mitotic cell cycle', 'modulation of estrogen receptor signalling', 'dna repair', 'bmp canonical signaling', 'igf and insuline signaling', 'unfolded protein response', 'cell death', 'p38/mapk  pathway', 'glycogen metabolism', 'gnrh signal pathway', 'the intra-s-phase checkpoint mediated arrest of cell cycle progression', 'tca cycle', 'mtor protein kinase signaling pathway', 'proteasome  degradation pathway', 'morphine metabolism', 'hsc aging', 'gastric pepsin release', 'parietal cell production', 'prostaglandin pathway', 'cell cycle (g1/s)  progression', 'notch pathway', 'g2/m progression', 'wnt signaling', 'cell adhesion', 'cell cycle progression', 'egfr pathway', 'cell cycle', 'angiogenesis', 'g2/m-phase checkpoint', 'hsc self renewal', '26s proteasome  degradation', 'mapk signaling', 'immune system up or down regulation', 'm-phase progression', 'insulin signaling', 'nf kappa b pathway', 'cell cycle  progression', 'gi pathway', 'cd45+ hematopoietic-    derived cell    proliferation', \"kreb's cycle\", 'glycogen synthesis', 'apoptosis pathway', 'g1/s progression', 'inflammasome activation', 'melanin biosynthesis', 'proteasomal degradation', 'g2/m checkpoint arrest', 'g1/s cell cycle transition', 'dna damage response', 'gastric histamine release'}\n",
    "WIKIPATHWAYS_METAB = {'2,8-dihydroxyadenine', '8,11-dihydroxy-delta-9-thc', 'adp-ribosyl', 'cocaethylene', 'dhcer1p', 'ecgonidine', 'f2-isoprostane', 'fumonisins b1', 'iodine', 'l-glutamate', 'lactosylceramide', 'methylecgonidine', 'n-acetyl-l-aspartate', 'nad+', 'nadph oxidase', 'neuromelanin', 'nicotinic acid (na)', 'nmn', 'pip2', 'sphingomyelin', 'thf'}\n",
    "WIKIPATHWAYS_NAME_NORMALIZATION = {\"Ca 2+\": \"ca 2+\", \"acetyl coa\": \"acetyl-coa\", \"acetyl-coa(mit)\": \"acetyl-coa\", \"h20\": \"h2o\"}\n",
    "\n",
    "# Entities in Reactome that required manual curation\n",
    "BLACK_LIST_REACTOME = {\"5'\"}\n",
    "REACTOME_PROT = {'phospho-g2/m transition proteins', 'integrin alpha5beta1, integrin alphavbeta3, cd47', 'food proteins', 'activated fgfr2', 'adherens junction-associated proteins', 'pi3k mutants,activator:pi3k', 'prolyl 3-hydroxylases', 'gpi-anchored proteins', 'c3d, c3dg, ic3b', 'c4s/c6s chains', 'activated fgfr1 mutants and fusions', 'activated fgfr3 mutants', 'protein', 'cyclin a2:cdk2 phosphorylated g2/m transition protein', 'c4c, c3f', 'activated raf/ksr1', 'activated fgfr1 mutants', 'g2/m transition proteins', 'lman family receptors', 'cyclin', 'usp12:wdr48:wdr20,usp26', 'proteins with cleaved gpi-anchors', 'activated fgfr2 mutants', 'c4d, ic3b', 'c5b:c6:c7, c8, c9', 'cyclin a1:cdk2 phosphorylated g2/m transition protein', 'genetically or chemically inactive braf', 'il13-downregulated proteins', 'activated fgfr4 mutants', 'rna-binding protein in rnp (ribonucleoprotein) complexes', 'effector proteins', 'usp3, saga complex', 'dephosphorylated \"receiver\" raf/ksr1'}"
   ]
  },
  {
   "cell_type": "markdown",
   "metadata": {},
   "source": [
    "##### Methods used in this notebook to process node information and create a set for each modality/database"
   ]
  },
  {
   "cell_type": "code",
   "execution_count": 10,
   "metadata": {},
   "outputs": [],
   "source": [
    "def process_reactome_multiple_genes(genes):\n",
    "    \"\"\"Process a wrong ID with multiple identifiers\"\"\"\n",
    "    gene_list = []\n",
    "    for counter, gene in enumerate(genes):\n",
    "        \n",
    "        # Strip the ' gene' prefix\n",
    "        gene = gene.strip().strip(' gene').strip(' genes')\n",
    "        \n",
    "        # First element is always OK\n",
    "        if counter == 0:\n",
    "            gene_list.append(gene)\n",
    "        \n",
    "        # If the identifier starts the same than the first one, it is right\n",
    "        elif gene[:2] == genes[0][:2]:\n",
    "            gene_list.append(gene)\n",
    "        \n",
    "        # If the identifier is longer than 2 it is a valid HGNC symbol\n",
    "        elif len(gene) > 2:\n",
    "            gene_list.append(gene)\n",
    " \n",
    "        # If they start different, it might have only a number (e.g., 'ABC1, 2, 3') so it needs to be appended\n",
    "        elif gene.isdigit():\n",
    "            gene_list.append(genes[0][:-1] + gene)\n",
    "        \n",
    "        # If the have only one letter (e.g., HTR1A,B,D,E,F,HTR5A)\n",
    "        elif len(gene) == 1:\n",
    "            gene_list.append(genes[0][:-1] + gene)\n",
    "            \n",
    "    return gene_list\n",
    "    \n",
    "def munge_reactome_gene(gene):\n",
    "    \"\"\"Process Reactome gene\"\"\"\n",
    "    if \",\" in gene:\n",
    "        return process_reactome_multiple_genes(gene.split(\",\"))\n",
    "        \n",
    "    elif \"/\" in gene:\n",
    "        return process_reactome_multiple_genes(gene.split(\"/\"))\n",
    "    \n",
    "    return gene\n",
    "\n",
    "def calculate_database_sets(nodes, database):\n",
    "    \"\"\"Calculate node sets for each modality in the database\"\"\"\n",
    "    gene_nodes = set()\n",
    "    mirna_nodes = set()\n",
    "    metabolite_nodes = set()\n",
    "    bp_nodes = set()\n",
    "    \n",
    "    for node in nodes:\n",
    "        \n",
    "        if isinstance(node, ListAbundance) or isinstance(node, Reaction) or not node.name:\n",
    "            continue\n",
    "                \n",
    "        # Lower case name and strip quotes or white spaces\n",
    "        name = node.name.lower().strip('\"').strip()\n",
    "        \n",
    "        # Dealing with Genes/miRNAs\n",
    "        if isinstance(node, CentralDogma):\n",
    "            \n",
    "            ##################\n",
    "            # miRNA entities #\n",
    "            ##################\n",
    "            \n",
    "            if name.startswith(\"mir\"):\n",
    "                \n",
    "                # Reactome preprocessing to flat multiple identifiers\n",
    "                if database == 'reactome':\n",
    "                    reactome_cell = munge_reactome_gene(name)\n",
    "                    if isinstance(reactome_cell, list):\n",
    "                        for name in reactome_cell:\n",
    "                            mirna_nodes.add(name.replace(\"mir-\", \"mir\"))\n",
    "                    else:\n",
    "                        mirna_nodes.add(name.strip(' genes').replace(\"mir-\", \"mir\"))\n",
    "                        \n",
    "                    continue\n",
    "                \n",
    "                mirna_nodes.add(name.replace(\"mir-\", \"mir\"))\n",
    "                \n",
    "            ##################\n",
    "            # Genes entities #\n",
    "            ##################\n",
    "            \n",
    "            else:\n",
    "                # Reactome preprocessing to flat multiple identifiers\n",
    "                if database == 'reactome':\n",
    "                    reactome_cell = munge_reactome_gene(name)\n",
    "                    if isinstance(reactome_cell, list):\n",
    "                        for name in reactome_cell:\n",
    "                            if name in BLACK_LIST_REACTOME: # Filter entities in black list\n",
    "                                continue\n",
    "                            elif name.startswith(\"(\"): # remove redundant parentheses\n",
    "                                name = name.strip(\"(\").strip(\")\")\n",
    "                                \n",
    "                            gene_nodes.add(name)\n",
    "                    else:\n",
    "                        gene_nodes.add(name)\n",
    "                    continue\n",
    "                    \n",
    "                # WikiPathways and KEGG do not require any processing of genes\n",
    "                if name in WIKIPATHWAYS_BIOL_PROCESS:\n",
    "                    bp_nodes.add(name)\n",
    "                    continue\n",
    "                gene_nodes.add(name)\n",
    "         \n",
    "        #######################\n",
    "        # Metabolite entities #\n",
    "        #######################\n",
    "        \n",
    "        elif isinstance(node, Abundance):\n",
    "            \n",
    "            if database == 'wikipathways':\n",
    "                # Biological processes that are captured as abundance in BEL since they were characterized wrong in WikiPathways\n",
    "                if name in WIKIPATHWAYS_BIOL_PROCESS:\n",
    "                    bp_nodes.add(name)\n",
    "                    continue\n",
    "\n",
    "                elif node.namespace in {'WIKIDATA', 'WIKIPATHWAYS', 'REACTOME'} and name not in WIKIPATHWAYS_METAB:\n",
    "                    bp_nodes.add(name)\n",
    "                    continue\n",
    "                    \n",
    "                # Fix naming in duplicate entity\n",
    "                if name in WIKIPATHWAYS_NAME_NORMALIZATION:\n",
    "                    name = WIKIPATHWAYS_NAME_NORMALIZATION[name]\n",
    "                    \n",
    "            elif database == 'reactome':\n",
    "                # Curated proteins that were coded as metabolites\n",
    "                if name in REACTOME_PROT:\n",
    "                    gene_nodes.add(name)\n",
    "                    continue\n",
    "                \n",
    "                # Flat multiple identifiers (this is not trivial because most of ChEBI names contain commas, \n",
    "                # so a clever way to fix some of the entities is to check that all identifiers contain letters)\n",
    "                elif \",\" in name and all(\n",
    "                    string.isalpha() \n",
    "                    for string in name.split(\",\")\n",
    "                ):\n",
    "                    for string in name.split(\",\"):\n",
    "                        metabolite_nodes.add(string)\n",
    "                    continue\n",
    "                    \n",
    "            metabolite_nodes.add(name)\n",
    "\n",
    "        #################################\n",
    "        # Biological Processes entities #\n",
    "        #################################\n",
    "        \n",
    "        elif isinstance(node, BiologicalProcess):\n",
    "            if name.startswith('title:'):\n",
    "                name = name[6:] # KEGG normalize\n",
    "            \n",
    "            bp_nodes.add(name)\n",
    "        \n",
    "    return gene_nodes, mirna_nodes, metabolite_nodes, bp_nodes"
   ]
  },
  {
   "cell_type": "code",
   "execution_count": 11,
   "metadata": {},
   "outputs": [],
   "source": [
    "kegg_genes, kegg_mirna, kegg_metabolites, kegg_bps = calculate_database_sets(\n",
    "    kegg_nodes, 'kegg'\n",
    ")\n",
    "\n",
    "reactome_genes, reactome_mirna, reactome_metabolites, reactome_bps = calculate_database_sets(\n",
    "    reactome_nodes, 'reactome'\n",
    ")\n",
    "wikipathways_genes, wikipathways_mirna, wikipathways_metabolites, wikipathways_bps = calculate_database_sets(\n",
    "    wikipathways_nodes, 'wikipathways'\n",
    ")"
   ]
  },
  {
   "cell_type": "markdown",
   "metadata": {},
   "source": [
    "#### Entity count for each modality in each database"
   ]
  },
  {
   "cell_type": "code",
   "execution_count": 12,
   "metadata": {
    "scrolled": true
   },
   "outputs": [
    {
     "name": "stdout",
     "output_type": "stream",
     "text": [
      "Total number of genes: KEGG (7283), Reactome (6342), WikiPathways (3018)\n",
      "Total number of metabolites: KEGG (4041), Reactome (2542), WikiPathways (454)\n",
      "Total number of miRNAs: KEGG (149), Reactome (11), WikiPathways (67)\n",
      "Total number of Biological Processes: KEGG (418), Reactome (2101), WikiPathways (102)\n"
     ]
    }
   ],
   "source": [
    "print(f'Total number of genes: KEGG ({len(kegg_genes)}), Reactome ({len(reactome_genes)}), WikiPathways ({len(wikipathways_genes)})')\n",
    "\n",
    "print(f'Total number of metabolites: KEGG ({len(kegg_metabolites)}), Reactome ({len(reactome_metabolites)}), WikiPathways ({len(wikipathways_metabolites)})')\n",
    "\n",
    "print(f'Total number of miRNAs: KEGG ({len(kegg_mirna)}), Reactome ({len(reactome_mirna)}), WikiPathways ({len(wikipathways_mirna)})')\n",
    "\n",
    "print(f'Total number of Biological Processes: KEGG ({len(kegg_bps)}), Reactome ({len(reactome_bps)}), WikiPathways ({len(wikipathways_bps)})')"
   ]
  },
  {
   "cell_type": "markdown",
   "metadata": {},
   "source": [
    "Consensus nodes"
   ]
  },
  {
   "cell_type": "code",
   "execution_count": 13,
   "metadata": {},
   "outputs": [
    {
     "data": {
      "text/plain": [
       "1255"
      ]
     },
     "execution_count": 13,
     "metadata": {},
     "output_type": "execute_result"
    }
   ],
   "source": [
    "len(kegg_genes.intersection(reactome_genes).intersection(wikipathways_genes))"
   ]
  },
  {
   "cell_type": "code",
   "execution_count": 14,
   "metadata": {},
   "outputs": [
    {
     "data": {
      "text/plain": [
       "27"
      ]
     },
     "execution_count": 14,
     "metadata": {},
     "output_type": "execute_result"
    }
   ],
   "source": [
    "len(kegg_metabolites.intersection(reactome_metabolites).intersection(wikipathways_metabolites))"
   ]
  },
  {
   "cell_type": "code",
   "execution_count": 15,
   "metadata": {},
   "outputs": [
    {
     "data": {
      "text/plain": [
       "3"
      ]
     },
     "execution_count": 15,
     "metadata": {},
     "output_type": "execute_result"
    }
   ],
   "source": [
    "len(kegg_mirna.intersection(reactome_mirna).intersection(wikipathways_mirna))"
   ]
  },
  {
   "cell_type": "code",
   "execution_count": 16,
   "metadata": {},
   "outputs": [
    {
     "data": {
      "text/plain": [
       "0"
      ]
     },
     "execution_count": 16,
     "metadata": {},
     "output_type": "execute_result"
    }
   ],
   "source": [
    "len(kegg_bps.intersection(reactome_bps).intersection(wikipathways_mirna))"
   ]
  },
  {
   "cell_type": "code",
   "execution_count": 17,
   "metadata": {},
   "outputs": [],
   "source": [
    "#########\n",
    "# Genes #\n",
    "#########\n",
    "\n",
    "genes_total = kegg_genes | reactome_genes | wikipathways_genes\n",
    "\n",
    "genes_consensus = kegg_genes.intersection(reactome_genes).intersection(wikipathways_genes)\n",
    "genes_2_dbs = (((kegg_genes & reactome_genes) | (wikipathways_genes & reactome_genes)) | (wikipathways_genes & kegg_genes)) - genes_consensus\n",
    "\n",
    "gene_unique_kegg = (kegg_genes - reactome_genes) - wikipathways_genes\n",
    "gene_unique_reactome = (reactome_genes - kegg_genes) - wikipathways_genes\n",
    "gene_unique_wp = (wikipathways_genes - kegg_genes) - reactome_genes\n",
    "\n",
    "# Unique KEGG +  Unique Reactome + Unique Wikipathways\n",
    "genes_unique = gene_unique_kegg |  gene_unique_reactome | gene_unique_wp\n",
    "\n",
    "pct_gene_consensus = (len(genes_consensus)/ len(genes_total)) * 100\n",
    "pct_gene_2_dbs = (len(genes_2_dbs)/ len(genes_total)) * 100\n",
    "pct_gene_unique = (len(genes_unique)/ len(genes_total)) * 100\n",
    "\n",
    "###############\n",
    "# Metabolites # \n",
    "###############\n",
    "\n",
    "metabolites_total = kegg_metabolites | reactome_metabolites | wikipathways_metabolites\n",
    "\n",
    "metabolites_consensus = kegg_metabolites & reactome_metabolites & wikipathways_metabolites\n",
    "metabolites_2_dbs = (((kegg_metabolites & reactome_metabolites) | (wikipathways_metabolites & reactome_metabolites)) | (wikipathways_metabolites & kegg_metabolites)) - metabolites_consensus\n",
    "\n",
    "metabolites_unique_kegg = (kegg_metabolites - reactome_metabolites) - wikipathways_metabolites\n",
    "metabolites_unique_reactome = (reactome_metabolites - kegg_metabolites) - wikipathways_metabolites\n",
    "metabolites_unique_wp = (wikipathways_metabolites - kegg_metabolites) - reactome_metabolites\n",
    "\n",
    "# Unique KEGG +  Unique Reactome + Unique Wikipathways\n",
    "metabolites_unique = metabolites_unique_kegg |  metabolites_unique_reactome | metabolites_unique_wp\n",
    "\n",
    "pct_metabolites_consensus = (len(metabolites_consensus)/ len(metabolites_total)) * 100\n",
    "pct_metabolites_2_dbs = (len(metabolites_2_dbs)/ len(metabolites_total)) * 100\n",
    "pct_metabolites_unique = (len(metabolites_unique)/ len(metabolites_total)) * 100\n",
    "\n",
    "##########\n",
    "# miRNAS # \n",
    "##########\n",
    "\n",
    "mirna_total = kegg_mirna | reactome_mirna | wikipathways_mirna\n",
    "\n",
    "mirna_consensus = kegg_mirna & reactome_mirna & wikipathways_mirna\n",
    "mirna_2_dbs = (((kegg_mirna & reactome_mirna) | (wikipathways_mirna & reactome_mirna)) | (wikipathways_mirna & kegg_mirna)) - mirna_consensus\n",
    "\n",
    "mirna_unique_kegg = (kegg_mirna - reactome_mirna) - wikipathways_mirna\n",
    "mirna_unique_reactome = (reactome_mirna - kegg_mirna) - wikipathways_mirna\n",
    "mirna_unique_wp = (wikipathways_mirna - kegg_mirna) - reactome_mirna\n",
    "\n",
    "# Unique KEGG +  Unique Reactome + Unique Wikipathways\n",
    "mirna_unique = mirna_unique_kegg |  mirna_unique_reactome | mirna_unique_wp\n",
    "\n",
    "pct_mirna_consensus = (len(mirna_consensus)/ len(mirna_total)) * 100\n",
    "pct_mirna_2_dbs = (len(mirna_2_dbs)/ len(mirna_total)) * 100\n",
    "pct_mirna_unique = (len(mirna_unique)/ len(mirna_total)) * 100\n",
    "\n",
    "\n",
    "########################\n",
    "# Biological Processes # \n",
    "########################\n",
    "\n",
    "bps_total = kegg_bps | reactome_bps | wikipathways_bps\n",
    "\n",
    "bps_consensus = kegg_bps & reactome_bps & wikipathways_bps\n",
    "bps_2_dbs = (((kegg_bps & reactome_bps) | (wikipathways_bps & reactome_bps)) | (wikipathways_bps & kegg_bps)) - bps_consensus\n",
    "\n",
    "bps_unique_kegg = (kegg_bps - reactome_bps) - wikipathways_bps\n",
    "bps_unique_reactome = (reactome_bps - kegg_bps) - wikipathways_bps\n",
    "bps_unique_wp = (wikipathways_bps - kegg_bps) - reactome_bps\n",
    "\n",
    "# Unique KEGG +  Unique Reactome + Unique Wikipathways\n",
    "bps_unique = bps_unique_kegg |  bps_unique_reactome | bps_unique_wp\n",
    "\n",
    "pct_bps_consensus = (len(bps_consensus)/ len(bps_total)) * 100\n",
    "pct_bps_2_dbs = (len(bps_2_dbs)/ len(bps_total)) * 100\n",
    "pct_bps_unique = (len(bps_unique)/ len(bps_total)) * 100"
   ]
  },
  {
   "cell_type": "markdown",
   "metadata": {},
   "source": [
    "##### Visualize results"
   ]
  },
  {
   "cell_type": "code",
   "execution_count": 18,
   "metadata": {},
   "outputs": [
    {
     "data": {
      "image/png": "[encoded data removed]",
      "text/plain": [
       "<Figure size 1400x700 with 1 Axes>"
      ]
     },
     "metadata": {},
     "output_type": "display_data"
    }
   ],
   "source": [
    "raw_data = {\n",
    "    'modality': ['Genes', 'Metabolites', 'miRNAs'],\n",
    "    'Consensus in all 3': [pct_gene_consensus, pct_metabolites_consensus, pct_mirna_consensus],\n",
    "    'Overlap in 2': [pct_gene_2_dbs, pct_metabolites_2_dbs, pct_mirna_2_dbs],\n",
    "    'Unique': [pct_gene_unique, pct_metabolites_unique, pct_mirna_unique]\n",
    "}\n",
    "\n",
    "df = pd.DataFrame(\n",
    "    raw_data, \n",
    "    columns = ['modality', 'Consensus in all 3', 'Overlap in 2', 'Unique']\n",
    ")\n",
    "\n",
    "# Setting the positions and width for the bars\n",
    "pos = list(range(len(df['Consensus in all 3']))) \n",
    "width = 0.25 \n",
    "    \n",
    "fig = plt.figure(figsize=(10, 5), dpi=140)\n",
    "\n",
    "ax = plt.gca()\n",
    "\n",
    "plt.bar(\n",
    "    pos, \n",
    "    df['Consensus in all 3'], \n",
    "    width, \n",
    "    color='#005400', \n",
    "    alpha=0.5, \n",
    "    label=df['modality'][0]\n",
    ")\n",
    "\n",
    "plt.bar(\n",
    "    [p + width for p in pos], \n",
    "    df['Overlap in 2'],\n",
    "    width, \n",
    "    color='#ffba00', \n",
    "    alpha=0.5, \n",
    "    label=df['modality'][1]\n",
    ")\n",
    "\n",
    "plt.bar(\n",
    "    [p + width*2 for p in pos], \n",
    "    df['Unique'], \n",
    "    width, \n",
    "    alpha=0.5, \n",
    "    color='#a50000', \n",
    "    label=df['modality'][2]\n",
    ")\n",
    "\n",
    "ax.set_ylabel('Percentage of the union')\n",
    "ax.set_title('Overlapping entities across modalities in databases', fontsize = 16)\n",
    "\n",
    "# Set the position of the x ticks\n",
    "ax.set_xticks([p + 1.5 * width for p in pos])\n",
    "\n",
    "# Set the labels for the x ticks\n",
    "ax.set_xticklabels(df['modality'])\n",
    "\n",
    "# Setting the x-axis and y-axis limits\n",
    "plt.xlim(min(pos)-width, max(pos)+width*4)\n",
    "plt.ylim([0, 100])\n",
    "\n",
    "# Add values to the chart\n",
    "rects = ax.patches\n",
    "\n",
    "values = [\n",
    "    pct_gene_consensus, pct_metabolites_consensus, pct_mirna_consensus, \n",
    "    pct_gene_2_dbs, pct_metabolites_2_dbs, pct_mirna_2_dbs, \n",
    "    pct_gene_unique, pct_metabolites_unique, pct_mirna_unique\n",
    "]\n",
    "\n",
    "for rect, label in zip(rects, values):\n",
    "    height = rect.get_height()\n",
    "    \n",
    "    if label > 90:\n",
    "        ax.text(\n",
    "            rect.get_x() + rect.get_width() / 2, height - 4, \n",
    "            \"{}%\".format(round(label, 2)),\n",
    "            ha='center', va='bottom'\n",
    "        )\n",
    "\n",
    "    else:\n",
    "        ax.text(\n",
    "            rect.get_x() + rect.get_width() / 2, height + 2, \n",
    "            \"{}%\".format(round(label, 2)),\n",
    "            ha='center', va='bottom'\n",
    "        )\n",
    "\n",
    "# Adding the legend and showing the plot\n",
    "plt.legend(['Consensus in all 3', 'Overlap in 2', 'Unique'], loc='upper left')\n",
    "plt.grid()\n",
    "plt.show()"
   ]
  },
  {
   "cell_type": "markdown",
   "metadata": {},
   "source": [
    "__Figure 1.__ Overlapping entities across modalities in the three databases studied (i.e., KEGG, Reactome, and WikiPathways). \n",
    "\n",
    "We find the degree of consensus of biological entities across all three databases (green bars) to be relatively low, albeit variable across the assessed modalities. The proportion of genes present in all databases is similar to the results obtained by [5] (15%), although they have exclusively focused their work on metabolic pathways. Total consensus of miRNAs in all three databases was unsurprisingly low due to a disproportionate representation of miRNA species across the databases. Specifically, as few as 11 miRNAs derived from Reactome while 149 were present in KEGG. By contrast, the total consensus for metabolites is grossly deficient at less than 1%. This particularly low level of overlap for the metabolite modality can be largely attributed to several reasons that we will later discuss.\n",
    "\n",
    "While for partial overlap (yellow bars) we observed similar results for genes and miRNAs, both having approximately one fourth (25%) of overlap, the metabolite modality exhibited relatively low levels of overlap (~4%). Accordingly, we find that the proportion of distinct entities (red bars) is substantially higher than those present in any two or all three databases. \n",
    "\n",
    "There are several reasons that can explain the observed results:\n",
    "\n",
    "1. Disproportionate representation of each modality across databases __(Table 1)__. By definition, having sets with significant variations in cardinality (i.e., set size) limits the likelihood of consensus since only a portion of the larger sets can intersect with the smaller ones. For instance, since KEGG contains 4048 metabolites and WikiPathways 454, the maximum consensus is constrained to the metabolites contained in WikiPathways (in this case the maximum overlap would be 11.22% overlap).\n",
    "\n",
    "2. Each database places distinct emphases on discrete aspects or regions of biological pathways, as outlined by [4] who reported only 21 equivalent pathways between the three databases. Therefore, despite the presence of key biological players in all three databases, the majority of biological entities are particular to a single database. For example, over 200 glycan molecules are present in KEGG since this resource contains multiple pathways related to Glycan metabolism (i.e., \"Glycan biosynthesis and metabolism\") while they are absent in the others.\n",
    "\n",
    "3. Some entity identifiers have no discernible mapping to major standard nomenclatures because they exhibit a high degree of specificity. This is particularly noted for genes where curators captured entities such as specific protein events (e.g., \"p-y641-stat6\"), protein mutations (e.g., \"activated fgfr1 mutants\"), protein families (e.g., \"lim kinases\"), protein fragments (e.g., \"ub c-terminal hh fragments\"), or splicing events (e.g., \"xbp1 mrna (spliced)\"). A way to account for these high granular cases would be to standardized protein families with resources such as Pfam or FamPlex. For cases such as protein fragments or events, BEL enables their harmonization by incorporating them into its syntax (http://openbel.org/language/version_2.0/bel_specification_version_2.0.html).\n",
    " \n",
    "\n",
    "|Modality|KEGG|Reactome|WikiPathways|\n",
    "|------|------|------|------|\n",
    "|Genes |7289|6342|3025|\n",
    "|Metabolites|4048|2553|454|\n",
    "|miRNAs |149|11|68|\n",
    "|Biological Processes |418|2101|102|\n",
    "<center> __Table 1.__ Unique entities in each modality for each database <center>"
   ]
  }
 ],
 "metadata": {
  "kernelspec": {
   "display_name": "Python 3",
   "language": "python",
   "name": "python3"
  },
  "language_info": {
   "codemirror_mode": {
    "name": "ipython",
    "version": 3
   },
   "file_extension": ".py",
   "mimetype": "text/x-python",
   "name": "python",
   "nbconvert_exporter": "python",
   "pygments_lexer": "ipython3",
   "version": "3.6.5"
  }
 },
 "nbformat": 4,
 "nbformat_minor": 2
}
